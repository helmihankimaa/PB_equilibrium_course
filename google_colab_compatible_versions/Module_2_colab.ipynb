{
 "cells": [
  {
   "cell_type": "markdown",
   "id": "8cc784f3",
   "metadata": {
    "id": "8cc784f3"
   },
   "source": [
    "# Module 2: Mixed Complementarity Problems (MCPs) and Strategic Competition\n",
    "\n",
    "In this module we inspect market-equilibrium problems expressed as **mixed complementarity problems (MCPs)**. The modeling exercises in this notebook include:\n",
    "\n",
    "1)  Duopoly energy producer problem\n",
    "\n",
    "2)  Energy network market equilibrium"
   ]
  },
  {
   "cell_type": "markdown",
   "id": "380537a4",
   "metadata": {
    "id": "380537a4"
   },
   "source": [
    "#### Import code packages"
   ]
  },
  {
   "cell_type": "code",
   "execution_count": null,
   "id": "6a9e9651",
   "metadata": {
    "id": "6a9e9651"
   },
   "outputs": [],
   "source": [
    "from pyomo.environ import *\n",
    "from pyomo.opt import SolverFactory\n",
    "from pyomo.mpec import Complementarity, complements\n",
    "import os"
   ]
  },
  {
   "cell_type": "code",
   "execution_count": null,
   "id": "TuwySJRzlqot",
   "metadata": {
    "id": "TuwySJRzlqot"
   },
   "outputs": [],
   "source": [
    "# Set up the PATH solver\n",
    "# Set the PATH license string (from https://pages.cs.wisc.edu/~ferris/path.html)\n",
    "os.environ['PATH_LICENSE_STRING'] = \"2830898829&Courtesy&&&USR&45321&5_1_2021&1000&PATH&GEN&31_12_2025&0_0_0&6000&0_0\"\n",
    "\n",
    "# Set path to PATH executable (dependent on your OS)\n",
    "path_executable = os.path.join(os.getcwd(), 'path', 'pathampl')\n",
    "\n",
    "\n",
    "!chmod +x /content/path/pathampl"
   ]
  },
  {
   "cell_type": "markdown",
   "id": "3faf26ae",
   "metadata": {
    "id": "3faf26ae"
   },
   "source": [
    "## Exercise 2.1: Duopoly competition model"
   ]
  },
  {
   "cell_type": "markdown",
   "id": "452d5fe9",
   "metadata": {
    "id": "452d5fe9"
   },
   "source": [
    "#### Problem Description\n",
    "\n",
    "We analyze a **duopoly competition model** where two energy producers compete in quantities (Cournot competition). The problem is formulated as a **Linear Complementarity Problem (LCP)** derived from the first-order conditions of profit maximization."
   ]
  },
  {
   "cell_type": "markdown",
   "id": "48952dc8",
   "metadata": {
    "id": "48952dc8"
   },
   "source": [
    "#### Mathematical Formulation"
   ]
  },
  {
   "cell_type": "markdown",
   "id": "650049fe",
   "metadata": {
    "id": "650049fe"
   },
   "source": [
    "**Complementarity Conditions:**\n",
    "\n",
    "$0 \\leq q_i \\perp F(q_i) \\geq 0$ for $i = 1,2$\n",
    "\n",
    "where:\n",
    "\n",
    "$F\\begin{pmatrix} q_1 \\\\ q_2 \\end{pmatrix} = \\begin{pmatrix} 2\\beta q_1 + \\beta q_2 - \\alpha + \\gamma_1 \\\\ \\beta q_1 + 2\\beta q_2 - \\alpha + \\gamma_2 \\end{pmatrix}$\n",
    "\n",
    "\n",
    "**Parameters:**\n",
    "- $\\alpha = 10$ (market demand intercept)\n",
    "- $\\beta = 5$ (demand slope parameter)\n",
    "- $\\gamma_1 = 1$ (producer 1's cost parameter)\n",
    "- $\\gamma_2 = 1$ (producer 2's cost parameter)\n",
    "\n",
    "Notice that this problem consists of **only complementarity conditions**, without an objective function. Hence, we need to use the **PATH** solver to solve it."
   ]
  },
  {
   "cell_type": "markdown",
   "id": "a087f554",
   "metadata": {
    "id": "a087f554"
   },
   "source": [
    "#### Define Problem Data"
   ]
  },
  {
   "cell_type": "code",
   "execution_count": null,
   "id": "12383801",
   "metadata": {
    "id": "12383801"
   },
   "outputs": [],
   "source": [
    "# Cost Parameter\n",
    "gamma1 = 1\n",
    "gamma2 = 1\n",
    "\n",
    "# Demand function parameters\n",
    "a = 10\n",
    "b = 5"
   ]
  },
  {
   "cell_type": "markdown",
   "id": "9dca8158",
   "metadata": {
    "id": "9dca8158"
   },
   "source": [
    "### Task 1: Implementation\n"
   ]
  },
  {
   "cell_type": "markdown",
   "id": "f60f6e94",
   "metadata": {
    "id": "f60f6e94"
   },
   "source": [
    "Construct and solve the model. For convenience, notice that we implement $F(q_i)$ as a single expression instead of $F(q_1)$ and $F(q_2)$ separately. $$F(q_i) = \\beta q_i + \\beta \\sum_{j \\in I} q_j - \\alpha + \\gamma_i.$$"
   ]
  },
  {
   "cell_type": "code",
   "execution_count": null,
   "id": "62b9c8c5",
   "metadata": {
    "id": "62b9c8c5"
   },
   "outputs": [],
   "source": [
    "def duopoly_problem(gamma1, gamma2):\n",
    "\n",
    "    # Initialize duopoly model (m)\n",
    "    m = ConcreteModel()\n",
    "\n",
    "    # Set of firms\n",
    "    m.I = Set(initialize=[1, 2])\n",
    "\n",
    "    # Define parameters\n",
    "    m.gamma = Param(m.I, initialize={1:gamma1, 2:gamma2})\n",
    "\n",
    "    # Define variables\n",
    "    m.q = Var(m.I, domain=NonNegativeReals)\n",
    "\n",
    "    # Complementarity constraints\n",
    "    # 0 ≤ q_i ⊥ (gamma_i - a + b*sum(q_j) ) ≥ 0\n",
    "    def constraint_q_rule(m, i):\n",
    "        return complements(0 <= m.q[i], b * m.q[i] + b * sum(m.q[j] for j in m.I) - a + m.gamma[i] >= 0)\n",
    "    m.constraint_q1 = Complementarity( m.I,rule=constraint_q_rule)\n",
    "\n",
    "    ## Solve the model using PATH solver\n",
    "    solver = SolverFactory('pathampl', executable=path_executable)\n",
    "    results = solver.solve(m, tee=False) # tee=False suppresses solver output\n",
    "\n",
    "    # Print termination condition\n",
    "    print(f\"\\nSolver Status: {results.solver.termination_condition}\")\n",
    "\n",
    "    # Return model object with results\n",
    "    return m"
   ]
  },
  {
   "cell_type": "markdown",
   "id": "43b14a95",
   "metadata": {
    "id": "43b14a95"
   },
   "source": [
    "Function for displaying results"
   ]
  },
  {
   "cell_type": "code",
   "execution_count": null,
   "id": "cb3dfdf4",
   "metadata": {
    "id": "cb3dfdf4"
   },
   "outputs": [],
   "source": [
    "def display_duopoly_results(m, gamma1, gamma2):\n",
    "    # Display results\n",
    "    print(f\"\\n{'='*60}\")\n",
    "    print(f\"DUOPOLY EQUILIBRIUM RESULTS\")\n",
    "    print(f\"{'='*60}\")\n",
    "    print(f\"Marginal Costs: γ₁ = {gamma1}, γ₂ = {gamma2}\")\n",
    "    print(f\"Demand: P = {a} - {b}*(q₁ + q₂)\")\n",
    "    print(f\"\\nEquilibrium Quantities:\")\n",
    "\n",
    "    q1_val = value(m.q[1])\n",
    "    q2_val = value(m.q[2])\n",
    "    Q_total = q1_val + q2_val\n",
    "    P_market = a - b * Q_total\n",
    "\n",
    "    print(f\"  Firm 1: q₁ = {q1_val:.2f}\")\n",
    "    print(f\"  Firm 2: q₂ = {q2_val:.2f}\")\n",
    "    print(f\"  Total: Q = {Q_total:.2f}\")\n",
    "    print(f\"\\nMarket Price: P = {P_market:.2f}\")\n",
    "\n",
    "    # Calculate profits\n",
    "    profit1 = (P_market - gamma1) * q1_val\n",
    "    profit2 = (P_market - gamma2) * q2_val\n",
    "\n",
    "    print(f\"\\nProfits:\")\n",
    "    print(f\"  Firm 1: π₁ = {profit1:.2f}\")\n",
    "    print(f\"  Firm 2: π₂ = {profit2:.2f}\")\n",
    "    print(f\"  Total: Π = {profit1 + profit2:.2f}\")\n",
    "    print(f\"{'='*60}\\n\")"
   ]
  },
  {
   "cell_type": "markdown",
   "id": "7bbaa041",
   "metadata": {
    "id": "7bbaa041"
   },
   "source": [
    "Solve the model with given data"
   ]
  },
  {
   "cell_type": "code",
   "execution_count": null,
   "id": "e5a12ef1",
   "metadata": {
    "id": "e5a12ef1"
   },
   "outputs": [],
   "source": [
    "duopoly_model = duopoly_problem(gamma1, gamma2)\n",
    "display_duopoly_results(duopoly_model, gamma1, gamma2)"
   ]
  },
  {
   "cell_type": "markdown",
   "id": "d6656935",
   "metadata": {
    "id": "d6656935"
   },
   "source": [
    "### Task 2: Sensitivity Analysis\n",
    "\n",
    "Now suppose you are energy producer 1 and want to drive your competitor (producer 2) out of business. You can only control your costs $\\gamma_1$ but could make them go negative (e.g., get subsidized by the government).\n",
    "\n",
    "Do an analysis (numerical and/or analytical) to see the largest value of $\\gamma_1$ that forces $q_2=0$ (put your competitor out of business).\n"
   ]
  },
  {
   "cell_type": "code",
   "execution_count": null,
   "id": "bf972742",
   "metadata": {
    "id": "bf972742"
   },
   "outputs": [],
   "source": [
    "# Change these values to see how the results change\n",
    "gamma1_new = 1\n",
    "\n",
    "duopoly_new = duopoly_problem(gamma1_new, gamma2)\n",
    "display_duopoly_results(duopoly_new, gamma1_new, gamma2)"
   ]
  },
  {
   "cell_type": "markdown",
   "id": "6b24fbb8",
   "metadata": {
    "id": "6b24fbb8"
   },
   "source": [
    "### Task 3: Adding capacity constraints"
   ]
  },
  {
   "cell_type": "markdown",
   "id": "3e461863",
   "metadata": {
    "id": "3e461863"
   },
   "source": [
    "With capacity constraint $q_i \\leq q_i^{\\max}$, producer 1's problem becomes:\n",
    "\n",
    "\\begin{align*}\n",
    "\\text{Maximize}_{q_1} \\quad & (\\alpha - \\beta (q_1 + q_2)) q_1 - \\gamma_1 q_1 \\\\\n",
    "\\text{s.t.} \\quad & q_1 - q_1^{\\max} \\leq 0 \\qquad (\\delta_1) \\\\\n",
    "& - q_1 \\leq 0\n",
    "\\end{align*}\n",
    "\n",
    "1) Derive the KKT conditions for this problem and reformulate the duopoly model as an MCP. Implement and solve the new model with $q_1^{\\max} = 0.5$ and $q_2^{\\max} = 2$.\n",
    "\n",
    "2) Do the same sensitivity analysis as in Task 2 and find values for company 1 that force the competitor out of business."
   ]
  },
  {
   "cell_type": "code",
   "execution_count": null,
   "id": "3606d15a",
   "metadata": {
    "id": "3606d15a"
   },
   "outputs": [],
   "source": [
    "def duopoly_problem_with_capacity_constraints(gamma1, gamma2, q_max1, q_max2):\n",
    "\n",
    "    # Initialize duopoly model (m)\n",
    "    m = ConcreteModel()\n",
    "\n",
    "    # Set of firms\n",
    "    m.I = Set(initialize=[1, 2])\n",
    "\n",
    "    # Define parameters\n",
    "    m.gamma = Param(m.I, initialize={1:gamma1, 2:gamma2})\n",
    "    m.q_max = Param(m.I, initialize={1:q_max1, 2:q_max2})\n",
    "\n",
    "    # Define variables\n",
    "    m.q = Var(m.I, domain=NonNegativeReals)\n",
    "    m.delta = Var(m.I, domain=NonNegativeReals)\n",
    "\n",
    "    # Complementarity constraints\n",
    "    def constraint_q_rule(m, i):\n",
    "        return complements(0 <= m.q[i], b * m.q[i] + b * sum(m.q[j] for j in m.I) - a + m.gamma[i] + m.delta[i] >= 0)\n",
    "    m.constraint_q = Complementarity(m.I, rule=constraint_q_rule)\n",
    "\n",
    "    def constraint_delta_rule(m, i):\n",
    "        return complements(0 <= m.delta[i], m.q_max[i] - m.q[i] >= 0)\n",
    "    m.constraint_delta = Complementarity(m.I, rule=constraint_delta_rule)\n",
    "\n",
    "    # Solve the model using PATH solver\n",
    "    solver = SolverFactory('pathampl', executable=path_executable)\n",
    "    results = solver.solve(m, tee=False) # tee=False suppresses solver output\n",
    "\n",
    "    # Print termination condition\n",
    "    print(f\"\\nSolver Status: {results.solver.termination_condition}\")\n",
    "\n",
    "    # Return model object with results\n",
    "    return m"
   ]
  },
  {
   "cell_type": "markdown",
   "id": "0bd69036",
   "metadata": {
    "id": "0bd69036"
   },
   "source": [
    "Repeat the same analysis as above and find values for company 1 that force the competitor out of business. This time you can also control the capacity $q_1^{\\max}$."
   ]
  },
  {
   "cell_type": "code",
   "execution_count": null,
   "id": "c3b403c4",
   "metadata": {
    "id": "c3b403c4"
   },
   "outputs": [],
   "source": [
    "# Change these values to see how the results change\n",
    "gamma1_new = 1\n",
    "q1_max = 0.5\n",
    "\n",
    "# Do not change this value\n",
    "q2_max = 1\n",
    "\n",
    "duopoly_model_with_capacities = duopoly_problem_with_capacity_constraints(gamma1_new, gamma2, q1_max, q2_max)\n",
    "display_duopoly_results(duopoly_model_with_capacities, gamma1, gamma2)"
   ]
  },
  {
   "cell_type": "markdown",
   "id": "a1cda455",
   "metadata": {
    "id": "a1cda455"
   },
   "source": [
    "## Exercise 2.2: Multi-Node Energy Network Equilibrium"
   ]
  },
  {
   "cell_type": "markdown",
   "id": "9df42bde",
   "metadata": {
    "id": "9df42bde"
   },
   "source": [
    "### Problem Description\n",
    "\n",
    "We analyze a **two-node energy network** where four producers compete as price-takers in an asymmetric market structure. This creates a complex equilibrium with production, trading, and network flow decisions.\n",
    "\n",
    "### Network Structure:\n",
    "- **Node 1**: Producers A and B (can produce locally and export to Node 2)\n",
    "- **Node 2**: Producers C and D (can only produce locally)\n",
    "- **Network Operator**: Manages transmission flow $g_{12}$ between nodes\n",
    "- **Asymmetric Market**: Only Node 1 producers can participate in inter-nodal trade"
   ]
  },
  {
   "cell_type": "markdown",
   "id": "5f241f1c",
   "metadata": {
    "id": "5f241f1c"
   },
   "source": [
    "##### Define Problem Data and Parameters"
   ]
  },
  {
   "cell_type": "code",
   "execution_count": null,
   "id": "dfe28e33",
   "metadata": {
    "id": "dfe28e33"
   },
   "outputs": [],
   "source": [
    "# Demand function parameters: D(π) = a - b*π\n",
    "demand_params = {\n",
    "    'node1': {'a': 20, 'b': 1},  # D₁(π₁) = 20 - π₁\n",
    "    'node2': {'a': 40, 'b': 2}   # D₂(π₂) = 40 - 2*π₂\n",
    "}\n",
    "\n",
    "# Production cost parameters: γᵢ (marginal cost)\n",
    "production_costs = {\n",
    "    'A': 10,  # Producer A marginal cost\n",
    "    'B': 12,  # Producer B marginal cost\n",
    "    'C': 15,  # Producer C marginal cost\n",
    "    'D': 18   # Producer D marginal cost\n",
    "}\n",
    "\n",
    "# Production capacity limits: q̄ᵢ\n",
    "production_capacity = {\n",
    "    'A': 10,    # Producer A capacity\n",
    "    'B': 10,    # Producer B capacity\n",
    "    'C': 5,     # Producer C capacity\n",
    "    'D': 5      # Producer D capacity\n",
    "}\n",
    "\n",
    "# Transmission parameters\n",
    "transmission_params = {\n",
    "    'reg_tariff': 0.5,      # τ₁₂ᴿᵉᵍ: Regulated transmission tariff\n",
    "    'tso_cost': 1,          # γᵀˢᴼ: TSO operational cost\n",
    "    'capacity': 5,          # ḡ₁₂: Maximum transmission capacity\n",
    "}\n",
    "\n",
    "\n",
    "# Print problem parameters\n",
    "print(\"=== MULTI-NODE ENERGY NETWORK DATA ===\")\n",
    "\n",
    "print(\"\\nDemand Functions:\")\n",
    "for node, params in demand_params.items():\n",
    "    print(f\"  {node.title()}: D = {params['a']} - {params['b']}*π\")\n",
    "\n",
    "print(\"\\nProduction Costs ($/MWh):\")\n",
    "for producer, cost in production_costs.items():\n",
    "    node = 1 if producer in ['A', 'B'] else 2\n",
    "    capacity = production_capacity[producer]\n",
    "    print(f\"  Producer {producer} (Node {node}): ${cost}/MWh, Capacity: {capacity} MW\")\n",
    "\n",
    "print(f\"\\nTransmission Parameters:\")\n",
    "print(f\"  Regulated tariff: ${transmission_params['reg_tariff']}/MWh\")\n",
    "print(f\"  TSO cost: ${transmission_params['tso_cost']}/MWh\")\n",
    "print(f\"  Transmission capacity: {transmission_params['capacity']} MW\")"
   ]
  },
  {
   "cell_type": "markdown",
   "id": "8d27bc7b",
   "metadata": {
    "id": "8d27bc7b"
   },
   "source": [
    "### Task 1: Implementation"
   ]
  },
  {
   "cell_type": "markdown",
   "id": "a7bf3d3b",
   "metadata": {
    "id": "a7bf3d3b"
   },
   "source": [
    "##### Mathematical Formulation\n",
    "\n",
    "We will implement this model in Pyomo in parts and the formulation is shown in parts below. The formulation has\n",
    "\n",
    "**Sets:**\n",
    "\n",
    "{A, B} = Producers at Node 1\n",
    "\n",
    "{C, D} = Producers at Node 2\n",
    "\n",
    "{node1, node2} = Nodes in the network\n",
    "\n",
    "\n",
    "**Parameters:**\n",
    "\n",
    "$D_i(\\pi_i)$ = demand function at node $i$\n",
    "\n",
    "$\\gamma_j$ = operational cost of producer $j$\n",
    "\n",
    "$\\bar{q}_i^j$ = production capacity limit for producer $j$ at node $i$  \n",
    "\n",
    "$\\tau_{12}^{Reg}$ = regulated transmission tariff\n",
    "\n",
    "$\\gamma^{TSO}$ = TSO operational cost  \n",
    "\n",
    "$\\bar{g}_{12}$ = maximum transmission capacity from node 1 to node 2  \n",
    "\n",
    "\n"
   ]
  },
  {
   "cell_type": "code",
   "execution_count": null,
   "id": "14eea5ff",
   "metadata": {
    "id": "14eea5ff"
   },
   "outputs": [],
   "source": [
    "def define_sets_and_params(model, g_bar = 5):\n",
    "    # Define sets\n",
    "    model.Producers_Node1 = Set(initialize=['A', 'B'])\n",
    "    model.Producers_Node2 = Set(initialize=['C', 'D'])\n",
    "    model.Nodes = Set(initialize=['node1', 'node2'])\n",
    "\n",
    "    # Define parameters\n",
    "    # Demand function parameters: D(π) = a - b*π\n",
    "    model.demand_a = Param(model.Nodes, initialize={'node1': 20, 'node2': 40})\n",
    "    model.demand_b = Param(model.Nodes, initialize={'node1': 1, 'node2': 2})\n",
    "\n",
    "    # Production cost and capacity\n",
    "    model.gamma = Param(model.Producers_Node1 | model.Producers_Node2,\n",
    "                    initialize={'A': 10, 'B': 12, 'C': 15, 'D': 18})\n",
    "    model.q_bar = Param(model.Producers_Node1 | model.Producers_Node2,\n",
    "                    initialize={'A': 10, 'B': 10, 'C': 5, 'D': 5})\n",
    "\n",
    "    # Transmission parameters\n",
    "    model.tau_reg = Param(initialize=0.5)  # Regulated transmission tariff\n",
    "    model.gamma_tso = Param(initialize=1)  # TSO operational cost\n",
    "    model.g_bar = Param(initialize=g_bar)  # Transmission capacity\n",
    "\n"
   ]
  },
  {
   "cell_type": "markdown",
   "id": "acfc2f9f",
   "metadata": {
    "id": "acfc2f9f"
   },
   "source": [
    "\n",
    "**Decision Variables:**\n",
    "\n",
    "$s_i^j$ = local sales by producer $j$ at node $i$  \n",
    "$q_i^j$ = total production by producer $j$ at node $i$  \n",
    "$f_{12}^j$ = inter-nodal flow from node 1 to node 2 by producer $j$  \n",
    "$g_{12}$ = total transmission flow from node 1 to node 2    \n",
    "\n",
    "**Dual variables:**\n",
    "\n",
    "$\\pi_i$ = energy price at node $i$  \n",
    "$\\tau_{12}$ = endogenous transmission tariff    \n",
    "$\\delta_i^j$ = shadow price of production balance constraint for producer $j$ at node $i$  \n",
    "$\\lambda_i^j$ = shadow price of capacity constraint for producer $j$ at node $i$  \n",
    "$\\varepsilon_{12}$ = shadow price of transmission capacity constraint   "
   ]
  },
  {
   "cell_type": "code",
   "execution_count": null,
   "id": "64f6d940",
   "metadata": {
    "id": "64f6d940"
   },
   "outputs": [],
   "source": [
    "def add_variables(model):\n",
    "\n",
    "    # Production and sales\n",
    "    model.q = Var(model.Producers_Node1 | model.Producers_Node2, within=NonNegativeReals)           # Production\n",
    "    model.s = Var(model.Producers_Node1 | model.Producers_Node2, within=NonNegativeReals)           # Local sales\n",
    "    model.f = Var(model.Producers_Node1, within=NonNegativeReals)                                   # Inter-nodal flow (A, B only)\n",
    "    model.lambda_var = Var(model.Producers_Node1 | model.Producers_Node2, within=NonNegativeReals)  # Capacity shadow price\n",
    "    model.delta = Var(model.Producers_Node1 | model.Producers_Node2, within=Reals)                  # Production balance shadow price\n",
    "\n",
    "    # Market variables\n",
    "    model.pi = Var(model.Nodes, within=Reals)   # Nodal prices\n",
    "    model.tau = Var(within=Reals)               # Endogenous transmission tariff\n",
    "\n",
    "    # Network operator's decision variables\n",
    "    model.g12 = Var(within=NonNegativeReals)  # Transmission flow\n",
    "    model.eps = Var(within=NonNegativeReals)  # Transmission capacity shadow price"
   ]
  },
  {
   "cell_type": "markdown",
   "id": "3c8f9c34",
   "metadata": {
    "id": "3c8f9c34"
   },
   "source": [
    "**Producer A (Node 1):**\n",
    "\n",
    "$0 \\leq -\\pi_1 + \\delta_1^A \\perp s_1^A \\geq 0$\n",
    "\n",
    "$0 \\leq \\gamma_1^A + \\lambda_1^A - \\delta_1^A \\perp q_1^A \\geq 0$\n",
    "\n",
    "$0 \\leq -\\pi_2 + (\\tau_{12}^{Reg} + \\tau_{12}) + \\delta_1^A \\perp f_{12}^A \\geq 0$\n",
    "\n",
    "$0 \\leq \\bar{q}_1^A - q_1^A \\perp \\lambda_1^A \\geq 0$\n",
    "\n",
    "$0 = s_1^A - q_1^A + f_{12}^A, \\delta_1^A \\text{ free}$\n",
    "\n",
    "Note: these are *not* indexed constraints, thus we do not use a rule function to define them."
   ]
  },
  {
   "cell_type": "code",
   "execution_count": null,
   "id": "f6b9c274",
   "metadata": {
    "id": "f6b9c274"
   },
   "outputs": [],
   "source": [
    "def add_producer_a_constraints(m):\n",
    "    # Producer A (Node 1)\n",
    "    m.comp_s1A = Complementarity(expr =\n",
    "        complements(0 <= m.s['A'], -m.pi['node1'] + m.delta['A'] >= 0))\n",
    "\n",
    "    m.comp_q1A = Complementarity(expr=\n",
    "        complements(0 <= m.q['A'], m.gamma['A'] + m.lambda_var['A'] - m.delta['A'] >= 0))\n",
    "\n",
    "    m.comp_f12A = Complementarity(expr=\n",
    "        complements(0 <= m.f['A'], -m.pi['node2'] + (m.tau_reg + m.tau) + m.delta['A'] >= 0))\n",
    "\n",
    "    m.comp_lambda1A = Complementarity(expr=\n",
    "        complements(0 <= m.q_bar['A'] - m.q['A'], m.lambda_var['A'] >= 0))\n",
    "\n",
    "    m.balance_A = Constraint(expr = m.s['A'] - m.q['A'] + m.f['A'] == 0)"
   ]
  },
  {
   "cell_type": "markdown",
   "id": "02bb985f",
   "metadata": {
    "id": "02bb985f"
   },
   "source": [
    "**Producer B (Node 1):**\n",
    "\n",
    "$0 \\leq -\\pi_1 + \\delta_1^B \\perp s_1^B \\geq 0$\n",
    "\n",
    "$0 \\leq \\gamma_1^B + \\lambda_1^B - \\delta_1^B \\perp q_1^B \\geq 0$\n",
    "\n",
    "$0 \\leq -\\pi_2 + (\\tau_{12}^{Reg} + \\tau_{12}) + \\delta_1^B \\perp f_{12}^B \\geq 0$\n",
    "\n",
    "$0 \\leq \\bar{q}_1^B - q_1^B \\perp \\lambda_1^B \\geq 0$\n",
    "\n",
    "$0 = s_1^B - q_1^B + f_{12}^B, \\delta_1^B \\text{ free}$\n"
   ]
  },
  {
   "cell_type": "code",
   "execution_count": null,
   "id": "3d85f82d",
   "metadata": {
    "id": "3d85f82d"
   },
   "outputs": [],
   "source": [
    "def add_producer_b_constraints(m):\n",
    "    # Producer B (Node 1)\n",
    "    m.comp_s1B = Complementarity(expr =\n",
    "        complements(0 <= m.s['B'], -m.pi['node1'] + m.delta['B'] >= 0))\n",
    "\n",
    "    m.comp_q1B = Complementarity(expr =\n",
    "        complements(0 <= m.q['B'], m.gamma['B'] + m.lambda_var['B'] - m.delta['B'] >= 0))\n",
    "\n",
    "    m.comp_f12B = Complementarity(expr =\n",
    "        complements(0 <= m.f['B'], -m.pi['node2'] + (m.tau_reg + m.tau) + m.delta['B'] >= 0))\n",
    "\n",
    "    m.comp_lambda1B = Complementarity(expr =\n",
    "        complements(0 <= m.q_bar['B'] - m.q['B'], m.lambda_var['B'] >= 0))\n",
    "\n",
    "    m.balance_B = Constraint(expr = m.s['B'] - m.q['B'] + m.f['B'] == 0)"
   ]
  },
  {
   "cell_type": "markdown",
   "id": "37a835f8",
   "metadata": {
    "id": "37a835f8"
   },
   "source": [
    "**Producer C (Node 2):**\n",
    "\n",
    "$0 \\leq -\\pi_2 + \\delta_2^C \\perp s_2^C \\geq 0$\n",
    "\n",
    "$0 \\leq \\gamma_2^C + \\lambda_2^C - \\delta_2^C \\perp q_2^C \\geq 0$ (\n",
    "\n",
    "$0 \\leq \\bar{q}_2^C - q_2^C \\perp \\lambda_2^C \\geq 0$ (\n",
    "\n",
    "$0 = s_2^C - q_2^C, \\delta_2^C \\text{ free}$"
   ]
  },
  {
   "cell_type": "code",
   "execution_count": null,
   "id": "474357ff",
   "metadata": {
    "id": "474357ff"
   },
   "outputs": [],
   "source": [
    "def add_producer_c_constraints(m):\n",
    "    # Producer C (Node 2)\n",
    "    m.comp_s2C = Complementarity(expr =\n",
    "        complements(0 <= m.s['C'], -m.pi['node2'] + m.delta['C'] >= 0))\n",
    "\n",
    "    m.comp_q2C = Complementarity(expr =\n",
    "        complements(0 <= m.q['C'], m.gamma['C'] + m.lambda_var['C'] - m.delta['C'] >= 0))\n",
    "\n",
    "    m.comp_lambda2C = Complementarity(expr =\n",
    "    complements(0 <= m.q_bar['C'] - m.q['C'], m.lambda_var['C'] >= 0))\n",
    "\n",
    "    m.balance_C = Constraint(expr = m.s['C'] - m.q['C'] == 0)"
   ]
  },
  {
   "cell_type": "markdown",
   "id": "ed0c0c36",
   "metadata": {
    "id": "ed0c0c36"
   },
   "source": [
    "**Producer D (Node 2):**\n",
    "\n",
    "$0 \\leq -\\pi_2 + \\delta_2^D \\perp s_2^D \\geq 0$\n",
    "\n",
    "$0 \\leq \\gamma_2^D + \\lambda_2^D - \\delta_2^D \\perp q_2^D \\geq 0$\n",
    "\n",
    "$0 \\leq \\bar{q}_2^D - q_2^D \\perp \\lambda_2^D \\geq 0$\n",
    "\n",
    "$0 = s_2^D - q_2^D, \\delta_2^D \\text{ free}$"
   ]
  },
  {
   "cell_type": "code",
   "execution_count": null,
   "id": "9f8f723c",
   "metadata": {
    "id": "9f8f723c"
   },
   "outputs": [],
   "source": [
    "def add_producer_d_constraints(m):\n",
    "    # Producer D (Node 2)\n",
    "    m.comp_s2D = Complementarity(expr =\n",
    "        complements(0 <= m.s['D'], -m.pi['node2'] + m.delta['D'] >= 0))\n",
    "\n",
    "    m.comp_q2D = Complementarity(expr =\n",
    "        complements(0 <= m.q['D'], m.gamma['D'] + m.lambda_var['D'] - m.delta['D'] >= 0))\n",
    "\n",
    "    m.comp_lambda2D = Complementarity(expr =\n",
    "        complements(0 <= m.q_bar['D'] - m.q['D'], m.lambda_var['D'] >= 0))\n",
    "\n",
    "    m.balance_D = Constraint(expr = m.s['D'] - m.q['D'] == 0)"
   ]
  },
  {
   "cell_type": "markdown",
   "id": "3787a313",
   "metadata": {
    "id": "3787a313"
   },
   "source": [
    "**Market Clearing Conditions:**\n",
    "\n",
    "$0 = [s_1^A + s_1^B] - D_1(\\pi_1), \\pi_1 \\text{ free}$\n",
    "\n",
    "$0 = [s_2^C + s_2^D + f_{12}^A + f_{12}^B] - D_2(\\pi_2), \\pi_2 \\text{ free}$"
   ]
  },
  {
   "cell_type": "code",
   "execution_count": null,
   "id": "00d9c39f",
   "metadata": {
    "id": "00d9c39f"
   },
   "outputs": [],
   "source": [
    "def add_market_clearing_conditions(m):\n",
    "    # Market clearing conditions\n",
    "    m.market_clearing_node1 = Constraint(expr =\n",
    "        m.s['A'] + m.s['B'] == m.demand_a['node1'] - m.demand_b['node1'] * m.pi['node1'])\n",
    "\n",
    "    m.market_clearing_node2 = Constraint(expr =\n",
    "        m.s['C'] + m.s['D'] + m.f['A'] + m.f['B'] == m.demand_a['node2'] - m.demand_b['node2'] * m.pi['node2'])"
   ]
  },
  {
   "cell_type": "markdown",
   "id": "90b498a5",
   "metadata": {
    "id": "90b498a5"
   },
   "source": [
    "**Network Operator's Constraints:**\n",
    "\n",
    "$0 \\leq -\\tau_{12}^{Reg} - \\tau_{12} + \\gamma^{TSO} + \\varepsilon_{12} \\perp g_{12} \\geq 0$\n",
    "\n",
    "$0 \\leq \\bar{g}_{12} - g_{12} \\perp \\varepsilon_{12} \\geq 0$\n",
    "\n",
    "$0 = g_{12} - [f_{12}^A + f_{12}^B], \\tau_{12} \\text{ free}$"
   ]
  },
  {
   "cell_type": "code",
   "execution_count": null,
   "id": "1a933985",
   "metadata": {
    "id": "1a933985"
   },
   "outputs": [],
   "source": [
    "def add_network_operator_constraints(m):\n",
    "    # Network operator's constraints\n",
    "    m.comp_g12 = Complementarity(expr =\n",
    "        complements(0 <= m.g12, -m.tau_reg - m.tau + m.gamma_tso + m.eps >= 0))\n",
    "\n",
    "    m.comp_eps = Complementarity(expr =\n",
    "        complements(0 <= m.g_bar - m.g12, m.eps >= 0))\n",
    "\n",
    "    m.transmission_balance = Constraint(expr = m.g12 == m.f['A'] + m.f['B'])"
   ]
  },
  {
   "cell_type": "markdown",
   "id": "8be67a4c",
   "metadata": {
    "id": "8be67a4c"
   },
   "source": [
    "Define a function that initializes the model and adds all components"
   ]
  },
  {
   "cell_type": "code",
   "execution_count": null,
   "id": "0d8136da",
   "metadata": {
    "id": "0d8136da"
   },
   "outputs": [],
   "source": [
    "def create_model(gbar):\n",
    "    # Create the Pyomo model\n",
    "    model = ConcreteModel()\n",
    "    define_sets_and_params(model, g_bar = gbar)\n",
    "    add_variables(model)\n",
    "    add_producer_a_constraints(model)\n",
    "    add_producer_b_constraints(model)\n",
    "    add_producer_c_constraints(model)\n",
    "    add_producer_d_constraints(model)\n",
    "    add_market_clearing_conditions(model)\n",
    "    add_network_operator_constraints(model)\n",
    "    return model"
   ]
  },
  {
   "cell_type": "markdown",
   "id": "2f0f2ce1",
   "metadata": {
    "id": "2f0f2ce1"
   },
   "source": [
    "**Solve MCP Model**"
   ]
  },
  {
   "cell_type": "code",
   "execution_count": null,
   "id": "e7a92668",
   "metadata": {
    "id": "e7a92668"
   },
   "outputs": [],
   "source": [
    "# Create the Pyomo model\n",
    "model = create_model(gbar = transmission_params['capacity'])\n",
    "\n",
    "# Solve the model\n",
    "solver = SolverFactory('pathampl', executable=path_executable)\n",
    "results = solver.solve(model)"
   ]
  },
  {
   "cell_type": "code",
   "execution_count": null,
   "id": "3d9125f6",
   "metadata": {
    "id": "3d9125f6"
   },
   "outputs": [],
   "source": [
    "# Display results\n",
    "print(\"=== MULTI-NODE ENERGY NETWORK RESULTS ===\")\n",
    "print(f\"Solver Status: {results.solver.status}\")\n",
    "print(f\"Termination Condition: {results.solver.termination_condition}\")\n",
    "print(\"\\nProducer Results:\")\n",
    "for p in model.Producers_Node1 | model.Producers_Node2:\n",
    "    node = 'node1' if p in model.Producers_Node1 else 'node2'\n",
    "    print(f\"\\nProducer {p} (Node {node[-1]}):\")\n",
    "    print(f\"  Production (q_{p}): {value(model.q[p]):.2f} MW\")\n",
    "    print(f\"  Local Sales (s_{p}): {value(model.s[p]):.2f} MW\")\n",
    "    if p in model.Producers_Node1:\n",
    "        print(f\"  Export to Node 2 (f_{p}): {value(model.f[p]):.2f} MW\")\n",
    "    print(f\"  Capacity Shadow Price (λ_{p}): {value(model.lambda_var[p]):.2f}\")\n",
    "\n",
    "print(\"\\nMarket Results:\")\n",
    "print(f\"  Node 1 Price (π₁): ${value(model.pi['node1']):.2f}/MWh\")\n",
    "print(f\"  Node 2 Price (π₂): ${value(model.pi['node2']):.2f}/MWh\")\n",
    "print(f\"  Transmission Flow (g₁₂): {value(model.g12):.2f} MW\")\n",
    "print(f\"  Endogenous Tariff (τ): ${value(model.tau):.2f}/MWh\")\n",
    "print(f\"  Transmission Capacity Shadow Price (ε): {value(model.eps):.2f}\")\n"
   ]
  },
  {
   "cell_type": "markdown",
   "id": "c8b39180",
   "metadata": {
    "id": "c8b39180"
   },
   "source": [
    "### Task 2\n",
    "\n",
    "1. **Parameter Sensitivity**: How does the solution change if we change pipeline capacity in the TSO problem (3, 5, 10)? Do some sensitivity analysis.\n",
    "\n",
    "2. **Transpetro**: Thought exercise: if we were to model the oil & gas context and Transpetro as the network operator, what are some other possible objectives Transpetro might have?"
   ]
  },
  {
   "cell_type": "markdown",
   "id": "38c8dad6",
   "metadata": {
    "id": "38c8dad6"
   },
   "source": [
    "The following function takes the transmission capacity as input, solves the model, and displays the results."
   ]
  },
  {
   "cell_type": "code",
   "execution_count": null,
   "id": "86310e66",
   "metadata": {
    "id": "86310e66"
   },
   "outputs": [],
   "source": [
    "def solve_and_display_sensitivity_analysis(capacity):\n",
    "\n",
    "    print(f\"\\n{'='*70}\")\n",
    "    print(f\"CAPACITY = {capacity} MW\")\n",
    "    print(f\"{'='*70}\\n\")\n",
    "\n",
    "    # Solve\n",
    "    model = create_model(gbar=capacity)\n",
    "    solver = SolverFactory('pathampl', executable=path_executable)\n",
    "    results = solver.solve(model, tee=False)\n",
    "\n",
    "    # Quick display\n",
    "    print(f\"Status: {results.solver.termination_condition}\")\n",
    "    print(f\"π₁ = ${value(model.pi['node1']):.2f}/MWh, π₂ = ${value(model.pi['node2']):.2f}/MWh\")\n",
    "    print(f\"Flow = {value(model.g12):.2f} MW, Shadow Price (ε) = ${value(model.eps):.2f}/MWh\\n\")\n"
   ]
  },
  {
   "cell_type": "markdown",
   "id": "d3048149",
   "metadata": {
    "id": "d3048149"
   },
   "source": [
    "Test different capacities and view results"
   ]
  },
  {
   "cell_type": "code",
   "execution_count": null,
   "id": "371ede88",
   "metadata": {
    "id": "371ede88"
   },
   "outputs": [],
   "source": [
    "# Test different capacities - 3,5-baseline,10\n",
    "for capacity in [3,5,10]:\n",
    "    solve_and_display_sensitivity_analysis(capacity)"
   ]
  }
 ],
 "metadata": {
  "colab": {
   "collapsed_sections": [
    "380537a4",
    "3faf26ae",
    "a1cda455"
   ],
   "provenance": []
  },
  "kernelspec": {
   "display_name": "course_env",
   "language": "python",
   "name": "python3"
  },
  "language_info": {
   "codemirror_mode": {
    "name": "ipython",
    "version": 3
   },
   "file_extension": ".py",
   "mimetype": "text/x-python",
   "name": "python",
   "nbconvert_exporter": "python",
   "pygments_lexer": "ipython3",
   "version": "3.11.11"
  }
 },
 "nbformat": 4,
 "nbformat_minor": 5
}
