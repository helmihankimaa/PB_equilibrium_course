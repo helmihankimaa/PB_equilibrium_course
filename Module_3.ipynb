{
 "cells": [
  {
   "cell_type": "markdown",
   "id": "844c9420",
   "metadata": {},
   "source": [
    "# Module 3: Bilevel Problems\n"
   ]
  },
  {
   "cell_type": "markdown",
   "id": "65f1585e",
   "metadata": {},
   "source": [
    "## *From competitive markets equilibrium to stackelberg games*\n",
    "\n",
    "We consider a simplified diesel market between 3 refineries. Each firm optimizes its own profit, subject only to a production capacity constraint. The firms have different efficiencies, represented by different marginal costs of production. Each player is maximizing their profit (minimising costs minus revenues):\n",
    "\n",
    "\\begin{align}\n",
    "    \\min_{x_i} \\ & c_i x_i - p(x) x_i \\\\\n",
    "    \\text{s.t. } & x_i - X^{max}_i && \\leq 0 \\quad :\\mu_i^{max} \\\\\n",
    "    & - x_i && \\leq 0 \\\\\n",
    "\\end{align}\n",
    "\n",
    "where $p(x)$ is the market price.\n",
    "\n",
    "In this exercise we investigate **market-price formation** and the firms' **market shares** in different market setups:\n",
    "\n",
    "1)  Perfect competition  & Welfare maximization\n",
    "\n",
    "2)  Cournot competition \n",
    "\n",
    "3)  Generalized Nash equilibrium \n",
    "\n",
    "4)  Stackelberg game  \n",
    "\n"
   ]
  },
  {
   "cell_type": "markdown",
   "id": "bedd2b8c",
   "metadata": {},
   "source": [
    "#### Import code packages"
   ]
  },
  {
   "cell_type": "code",
   "execution_count": 1,
   "id": "43450d24",
   "metadata": {},
   "outputs": [],
   "source": [
    "import matplotlib.pyplot\n",
    "from pyomo.environ import *\n",
    "import pandas as pd\n",
    "from pprint import pprint\n",
    "from IPython.display import display, HTML"
   ]
  },
  {
   "cell_type": "markdown",
   "id": "d185e44e",
   "metadata": {},
   "source": [
    "#### Problem data"
   ]
  },
  {
   "cell_type": "code",
   "execution_count": 2,
   "id": "4ec1e5ab",
   "metadata": {},
   "outputs": [],
   "source": [
    "# Marginal costs\n",
    "c1 = 3\n",
    "c2 = 4\n",
    "c3 = 5\n",
    "\n",
    "# Production capacities\n",
    "X1_max = 3\n",
    "X2_max = 4\n",
    "X3_max = 2\n",
    "\n",
    "# Demand function parameters\n",
    "a = 10\n",
    "b = 1"
   ]
  },
  {
   "cell_type": "code",
   "execution_count": 14,
   "id": "0a75c185",
   "metadata": {},
   "outputs": [],
   "source": [
    "def market_price(m):\n",
    "    x = [value(m.x[i]) for i in m.x]\n",
    "    price = a - b*sum(x)\n",
    "    return round(price, 2)\n",
    "\n",
    "def optimal_production(m):\n",
    "    x = [round(value(m.x[i]),2) for i in m.x]\n",
    "    return x\n",
    "\n",
    "def optimal_profits(m):\n",
    "    profits = []\n",
    "    p = market_price(m)\n",
    "    for i in m.x:\n",
    "        profit = p * value(m.x[i]) - m.c[i] * value(m.x[i])\n",
    "        profit = max(0, profit) # All profitc are positive in these models, this avoids -0.0 values.\n",
    "        profits.append(round(profit, 2))\n",
    "    return profits\n",
    "\n",
    "def social_welfare(m):\n",
    "    welfare = a * sum(value(m.x[i]) for i in [1,2,3]) \\\n",
    "                    - b/2 * sum(value(m.x[i]) for i in [1,2,3])**2 \\\n",
    "                  - sum(m.c[i] * value(m.x[i]) for i in [1,2,3])\n",
    "    return round(welfare,2)\n",
    "\n",
    "def add_results_to_table(m, setup, table): \n",
    "    # Check if setup already exists in the table\n",
    "    if len(table) == 0 or setup not in table[('Setup', '')].values:\n",
    "        # Create new row data matching MultiIndex structure\n",
    "        new_data = {\n",
    "            ('Setup', ''): [setup],\n",
    "            ('Market', 'Price'): [market_price(m)],\n",
    "            ('Production', 'Firm1'): [optimal_production(m)[0]],\n",
    "            ('Production', 'Firm2'): [optimal_production(m)[1]],\n",
    "            ('Production', 'Firm3'): [optimal_production(m)[2]],\n",
    "            ('Profit', 'Firm1'): [optimal_profits(m)[0]],\n",
    "            ('Profit', 'Firm2'): [optimal_profits(m)[1]],\n",
    "            ('Profit', 'Firm3'): [optimal_profits(m)[2]],\n",
    "            ('Social', 'Welfare'): [social_welfare(m)]\n",
    "        }\n",
    "        \n",
    "        new_row = pd.DataFrame(new_data)\n",
    "        \n",
    "        if len(table) == 0:\n",
    "            # If table is empty, just return the new row\n",
    "            table = new_row\n",
    "        else:\n",
    "            # Otherwise, concatenate normally\n",
    "            table = pd.concat([table, new_row], ignore_index=True)\n",
    "    return table\n",
    "\n",
    "def show(table):\n",
    "    #display(H ML(table.to_html(index=False)))\n",
    "    # Convert to HTML with custom styling\n",
    "    html = table.to_html(index=False, table_id=\"results\")\n",
    "    \n",
    "    # Add CSS for left alignment\n",
    "    styled_html = f\"\"\"\n",
    "    <style>\n",
    "    #results th, #results td {{\n",
    "        text-align: left !important;\n",
    "        padding: 6px 12px;\n",
    "    }}\n",
    "    #results th {{\n",
    "        font-weight: bold;\n",
    "    }}\n",
    "    #results {{\n",
    "        border-collapse: collapse;\n",
    "    }}\n",
    "    </style>\n",
    "    {html}\n",
    "    \"\"\"\n",
    "    \n",
    "    display(HTML(styled_html))\n",
    "   "
   ]
  },
  {
   "cell_type": "code",
   "execution_count": 15,
   "id": "b8be43b4",
   "metadata": {},
   "outputs": [
    {
     "data": {
      "text/html": [
       "\n",
       "    <style>\n",
       "    #results th, #results td {\n",
       "        text-align: left !important;\n",
       "        padding: 6px 12px;\n",
       "    }\n",
       "    #results th {\n",
       "        font-weight: bold;\n",
       "    }\n",
       "    #results {\n",
       "        border-collapse: collapse;\n",
       "    }\n",
       "    </style>\n",
       "    <table border=\"1\" class=\"dataframe\" id=\"results\">\n",
       "  <thead>\n",
       "    <tr>\n",
       "      <th>Setup</th>\n",
       "      <th>Market</th>\n",
       "      <th colspan=\"3\" halign=\"left\">Production</th>\n",
       "      <th colspan=\"3\" halign=\"left\">Profit</th>\n",
       "      <th>Social</th>\n",
       "    </tr>\n",
       "    <tr>\n",
       "      <th></th>\n",
       "      <th>Price</th>\n",
       "      <th>Firm1</th>\n",
       "      <th>Firm2</th>\n",
       "      <th>Firm3</th>\n",
       "      <th>Firm1</th>\n",
       "      <th>Firm2</th>\n",
       "      <th>Firm3</th>\n",
       "      <th>Welfare</th>\n",
       "    </tr>\n",
       "  </thead>\n",
       "  <tbody>\n",
       "  </tbody>\n",
       "</table>\n",
       "    "
      ],
      "text/plain": [
       "<IPython.core.display.HTML object>"
      ]
     },
     "metadata": {},
     "output_type": "display_data"
    }
   ],
   "source": [
    "columns = pd.MultiIndex.from_tuples([\n",
    "    ('Setup', ''),\n",
    "    ('Market', 'Price'),\n",
    "    ('Production', 'Firm1'),\n",
    "    ('Production', 'Firm2'),\n",
    "    ('Production', 'Firm3'),\n",
    "    ('Profit', 'Firm1'),\n",
    "    ('Profit', 'Firm2'),\n",
    "    ('Profit', 'Firm3'), \n",
    "    ('Social', 'Welfare')\n",
    "])\n",
    "results_table = pd.DataFrame(columns=columns)\n",
    "\n",
    "show(results_table)"
   ]
  },
  {
   "cell_type": "markdown",
   "id": "459b5908",
   "metadata": {},
   "source": [
    "# # 3.1 Competitive market equilibrium & Welfare maximization"
   ]
  },
  {
   "cell_type": "markdown",
   "id": "313f1a89",
   "metadata": {},
   "source": [
    "### Welfare-maximization model\n",
    "\n",
    "\\begin{align*}\n",
    "\\text{Maximize}_{x_1, x_2, x_3} \\quad\n",
    "& \\alpha \\sum_{j=1}^{3} x_j\n",
    "  - \\frac{1}{2} \\beta \\left( \\sum_{j=1}^{3} x_j \\right)^2\n",
    "  - \\sum_{j=1}^{3} c_j x_j\n",
    "\\\\\n",
    "\\text{s.t.} \\quad\n",
    "& x_i - X_i^{\\max} \\leq 0 : \\mu_i^{\\max}\n",
    "    \\qquad i = 1,2,3\n",
    "\\\\\n",
    "& -x_i \\leq 0,\n",
    "    \\qquad i = 1,2,3.\n",
    "\\end{align*}"
   ]
  },
  {
   "cell_type": "code",
   "execution_count": 16,
   "id": "e95a467f",
   "metadata": {},
   "outputs": [
    {
     "name": "stdout",
     "output_type": "stream",
     "text": [
      "The solver found an optimal solution.\n"
     ]
    }
   ],
   "source": [
    "# Initialize model for welfare maximization (wm)\n",
    "wm = ConcreteModel()\n",
    "\n",
    "# Define parameters\n",
    "wm.c = Param([1,2,3], initialize={1:c1, 2:c2, 3:c3})\n",
    "wm.X_max = Param([1,2,3], initialize={1:X1_max, 2:X2_max, 3:X3_max})\n",
    "\n",
    "# Define nonnegative variables\n",
    "wm.x = Var([1,2,3], domain=NonNegativeReals)\n",
    "\n",
    "# Define objective function (social welfare maximization)\n",
    "wm.obj = Objective(expr = a * sum(wm.x[i] for i in [1,2,3]) \\\n",
    "                    - b/2 * sum(wm.x[i] for i in [1,2,3])**2 \\\n",
    "                  - sum(wm.c[i] * wm.x[i] for i in [1,2,3]), \n",
    "                  sense=maximize)\n",
    "\n",
    "# Define constraints (production capacities)\n",
    "wm.con1 = Constraint(expr = wm.x[1] <= X1_max)\n",
    "wm.con2 = Constraint(expr = wm.x[2] <= X2_max)\n",
    "wm.con3 = Constraint(expr = wm.x[3] <= X3_max)\n",
    "\n",
    "# Solve the model\n",
    "solver = SolverFactory('gurobi')\n",
    "results = solver.solve(wm, tee=False) # tee=False suppresses solver output\n",
    "\n",
    "print(\"The solver found an\", results.solver.termination_condition, \"solution.\")"
   ]
  },
  {
   "cell_type": "markdown",
   "id": "0976c2dc",
   "metadata": {},
   "source": [
    "Query results"
   ]
  },
  {
   "cell_type": "code",
   "execution_count": 23,
   "id": "79308bd5",
   "metadata": {},
   "outputs": [
    {
     "name": "stdout",
     "output_type": "stream",
     "text": [
      "Market price: 4.0\n",
      "Optimal production (x): [3.0, 3.0, 0.0]\n",
      "Optimal profits: [3.0, 0, 0]\n",
      "Social welfare: 21.0\n"
     ]
    }
   ],
   "source": [
    "print(\"Market price:\", market_price(wm))\n",
    "print(\"Optimal production (x):\", optimal_production(wm))\n",
    "print(\"Optimal profits:\", optimal_profits(wm))\n",
    "print(\"Social welfare:\", social_welfare(wm))"
   ]
  },
  {
   "cell_type": "code",
   "execution_count": 18,
   "id": "2927c824",
   "metadata": {},
   "outputs": [
    {
     "data": {
      "text/html": [
       "\n",
       "    <style>\n",
       "    #results th, #results td {\n",
       "        text-align: left !important;\n",
       "        padding: 6px 12px;\n",
       "    }\n",
       "    #results th {\n",
       "        font-weight: bold;\n",
       "    }\n",
       "    #results {\n",
       "        border-collapse: collapse;\n",
       "    }\n",
       "    </style>\n",
       "    <table border=\"1\" class=\"dataframe\" id=\"results\">\n",
       "  <thead>\n",
       "    <tr>\n",
       "      <th>Setup</th>\n",
       "      <th>Market</th>\n",
       "      <th colspan=\"3\" halign=\"left\">Production</th>\n",
       "      <th colspan=\"3\" halign=\"left\">Profit</th>\n",
       "      <th>Social</th>\n",
       "    </tr>\n",
       "    <tr>\n",
       "      <th></th>\n",
       "      <th>Price</th>\n",
       "      <th>Firm1</th>\n",
       "      <th>Firm2</th>\n",
       "      <th>Firm3</th>\n",
       "      <th>Firm1</th>\n",
       "      <th>Firm2</th>\n",
       "      <th>Firm3</th>\n",
       "      <th>Welfare</th>\n",
       "    </tr>\n",
       "  </thead>\n",
       "  <tbody>\n",
       "    <tr>\n",
       "      <td>Welfare Max</td>\n",
       "      <td>4.0</td>\n",
       "      <td>3.0</td>\n",
       "      <td>3.0</td>\n",
       "      <td>0.0</td>\n",
       "      <td>3.0</td>\n",
       "      <td>0</td>\n",
       "      <td>0</td>\n",
       "      <td>21.0</td>\n",
       "    </tr>\n",
       "  </tbody>\n",
       "</table>\n",
       "    "
      ],
      "text/plain": [
       "<IPython.core.display.HTML object>"
      ]
     },
     "metadata": {},
     "output_type": "display_data"
    }
   ],
   "source": [
    "results_table = add_results_to_table(wm, 'Welfare Max', results_table)\n",
    "show(results_table)"
   ]
  },
  {
   "cell_type": "markdown",
   "id": "1d3157cf",
   "metadata": {},
   "source": [
    "### Competitive-market model\n",
    "Note that this model models a perfect-competition Nash equilibrium.\n",
    "\n",
    "\\begin{align}\n",
    "& 0 \\leq x_i \\perp c_i - \\alpha + \\beta \\sum_j x_j + \\mu_i^{\\max} \\geq 0, \\quad \\forall i \\in \\{1,2,3\\}\\\\\n",
    "& 0 \\leq \\mu_i^{\\max} \\perp X_i^{\\max} - x_i  \\geq 0, \\quad \\forall i \\in \\{1,2,3\\}\n",
    "\\end{align}"
   ]
  },
  {
   "cell_type": "code",
   "execution_count": 29,
   "id": "74eec9b0",
   "metadata": {},
   "outputs": [],
   "source": [
    "# # Initialize competitive market model (cm)\n",
    "# cm = ConcreteModel()\n",
    "\n",
    "# # Define parameters\n",
    "# cm.c = Param([1,2,3], initialize={1:c1, 2:c2, 3:c3})\n",
    "# cm.X_max = Param([1,2,3], initialize={1:X1_max, 2:X2_max, 3:X3_max})\n",
    "\n",
    "# # Define variables\n",
    "# cm.x = Var([1,2,3], domain=NonNegativeReals)\n",
    "# cm.mu = Var([1,2,3], domain=NonNegativeReals)  # Dual variables\n",
    "\n",
    "# # Complementarity constraints\n",
    "# # 0 ≤ x_i ⊥ (c_i - a + b*sum(x_j) + mu_i) ≥ 0\n",
    "# for i in [1,2,3]:\n",
    "#     expression = Expression(expr = cm.c[i] - a + b * sum(cm.x[j] for j in [1,2,3]) + cm.mu[i])\n",
    "#     complementarity(cm, cm.x[i], expression, i)\n",
    "\n",
    "# # 0 ≤ mu_i ⊥ (X_max - x_i) ≥ 0  \n",
    "# for i in [1,2,3]:\n",
    "#     expression = Expression(expr = cm.X_max[i] - cm.x[i])\n",
    "#     complementarity(cm, cm.mu[i], expression, i)\n",
    "\n",
    "# # Solve the model\n",
    "# solver = SolverFactory('gurobi')\n",
    "# results = solver.solve(wm, tee=False) # tee=False suppresses solver output\n",
    "\n",
    "# print(\"The solver found an\", results.solver.termination_condition, \"solution.\")"
   ]
  },
  {
   "cell_type": "markdown",
   "id": "f17f4fd1",
   "metadata": {},
   "source": [
    "Query results"
   ]
  },
  {
   "cell_type": "code",
   "execution_count": 30,
   "id": "872e4056",
   "metadata": {},
   "outputs": [],
   "source": [
    "# print(\"Market price:\", market_price(cm))\n",
    "# print(\"Optimal production (x):\", optimal_production(cm))\n",
    "# print(\"Optimal profits:\", optimal_profits(cm))\n",
    "# print(\"Social welfare:\", social_welfare(cm))"
   ]
  },
  {
   "cell_type": "markdown",
   "id": "e789a277",
   "metadata": {},
   "source": [
    "## The SOS1 variable transformation\n",
    "\n",
    "Briefly, in the special ordered sets 1 (SOS1) variable transformation, a complementarity constraint of the form $$0 \\leq x \\perp F(x) \\geq 0$$ is reformulated and results in the following constraints:\n",
    "\n",
    "\\begin{align*}\n",
    "    &2 (v^+ + v^-) = x + F(x) \\\\\n",
    "    & 2 (v^+ - v^-) = x - F(x) \\\\\n",
    "    & F(x) \\geq 0 \\\\\n",
    "    & v^+, v^- \\text{ are SOS1} \\\\\n",
    "    & v^+, v^-, x \\geq 0 \\\\\n",
    "\\end{align*}"
   ]
  },
  {
   "cell_type": "code",
   "execution_count": null,
   "id": "dbbefbac",
   "metadata": {},
   "outputs": [],
   "source": [
    "import pyomo.environ as pyo\n",
    "def complementarity(m:pyo.ConcreteModel, var:pyo.Var, fun:pyo.Expression, i:int):\n",
    "    \"\"\"\n",
    "    Implement a complementarity condition 0 <= x \\perp F(x) >= 0 using the SOS1 variable transformation.\n",
    "\n",
    "    Args:\n",
    "        m (pyo.ConcreteModel): The Pyomo model to which the constraints and auxiliary varaibles will be added to.\n",
    "        var (pyo.Var): The variable that the complementarity condition applies to.\n",
    "        fun (pyo.Expression): The expression that defines the complementarity condition.\n",
    "    Returns:\n",
    "        None: The function modifies the model in place.\n",
    "    \"\"\"\n",
    "\n",
    "    # Adding SOS1 variables to model\n",
    "    m.add_component('v_plus_' + var.name, pyo.Var(domain=pyo.NonNegativeReals))\n",
    "    m.add_component('v_minus_' + var.name, pyo.Var(domain=pyo.NonNegativeReals))\n",
    "\n",
    "    # Creating python variables pointin to model variables for easy access\n",
    "    v_plus = m.component('v_plus_' + var.name)\n",
    "    v_minus = m.component('v_minus_' + var.name)\n",
    "    \n",
    "    # Add constraints to the model\n",
    "    m.add_component('SOS1_' + var.name + '_nonnegativity', \n",
    "                   pyo.Constraint(expr = fun >= 0))\n",
    "    \n",
    "    m.add_component('SOS1_' + var.name + '_addition', \n",
    "                   pyo.Constraint(expr = 2*(v_plus + v_minus) == var + fun))\n",
    "    \n",
    "    m.add_component('SOS1_' + var.name + '_subtraction', \n",
    "                   pyo.Constraint(expr = 2*(v_plus - v_minus) == var - fun))\n",
    "    \n",
    "    # Create function for generating SOS1 constraints\n",
    "    def SOS1_rule(m):\n",
    "        vars_list = [v_plus, v_minus]\n",
    "        weights = [1, 2] # mandatory to specify weights, these may affect computation performance but for now set naively. \n",
    "        return vars_list, weights\n",
    "    \n",
    "    m.add_component('SOS1_' + var.name + '_constraint',\n",
    "                    pyo.SOSConstraint(rule=SOS1_rule, sos=1))"
   ]
  }
 ],
 "metadata": {
  "kernelspec": {
   "display_name": "course_env",
   "language": "python",
   "name": "python3"
  },
  "language_info": {
   "codemirror_mode": {
    "name": "ipython",
    "version": 3
   },
   "file_extension": ".py",
   "mimetype": "text/x-python",
   "name": "python",
   "nbconvert_exporter": "python",
   "pygments_lexer": "ipython3",
   "version": "3.11.11"
  }
 },
 "nbformat": 4,
 "nbformat_minor": 5
}
