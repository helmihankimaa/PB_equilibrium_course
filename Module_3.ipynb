{
 "cells": [
  {
   "cell_type": "markdown",
   "id": "844c9420",
   "metadata": {},
   "source": [
    "# Module 3: Bilevel Problems\n"
   ]
  },
  {
   "cell_type": "markdown",
   "id": "65f1585e",
   "metadata": {},
   "source": [
    "## <span style=\"color:orange\">*From competitive markets equilibrium to stackelberg games*</span>\n",
    "\n",
    "We consider a simplified diesel market between 3 refineries. Each firm optimizes its own profit, subject only to a production capacity constraint. The firms have different efficiencies, represented by different marginal costs of production. Each player is maximizing their profit (minimising costs minus revenues):\n",
    "\n",
    "\\begin{align}\n",
    "    \\min_{x_i} \\ & c_i x_i - p(x) x_i \\\\\n",
    "    \\text{s.t. } & x_i - X^{max}_i && \\leq 0 \\quad :\\mu_i^{max} \\\\\n",
    "    & - x_i && \\leq 0 \\\\\n",
    "\\end{align}\n",
    "\n",
    "where $p(x)$ is the market price.\n",
    "\n",
    "In this exercise we investigate <span style=\"color:orange\">**market-price formation**</span> and the firms' <span style=\"color:orange\">**production schedules**</span> in different market setups:\n",
    "\n",
    "1)  Perfect competition  & Welfare maximization\n",
    "\n",
    "2)  Cournot competition \n",
    "\n",
    "3)  Generalized Nash equilibrium \n",
    "\n",
    "4)  Stackelberg game  \n",
    "\n"
   ]
  },
  {
   "cell_type": "markdown",
   "id": "bedd2b8c",
   "metadata": {},
   "source": [
    "#### Import code packages"
   ]
  },
  {
   "cell_type": "code",
   "execution_count": 71,
   "id": "43450d24",
   "metadata": {},
   "outputs": [],
   "source": [
    "import matplotlib.pyplot as plt\n",
    "from pyomo.environ import *\n",
    "from pyomo.opt import SolverFactory\n",
    "import pandas as pd\n",
    "from pprint import pprint\n",
    "from IPython.display import display, HTML\n",
    "from pyomo.mpec import Complementarity, complements\n",
    "import numpy as np\n",
    "import os\n",
    "from sys import platform\n",
    "\n",
    "# Set the PATH license string (from https://pages.cs.wisc.edu/~ferris/path.html)\n",
    "os.environ['PATH_LICENSE_STRING'] = \"2830898829&Courtesy&&&USR&45321&5_1_2021&1000&PATH&GEN&31_12_2025&0_0_0&6000&0_0\"\n",
    "\n",
    "# Set path to PATH executable (dependent on your OS)\n",
    "path_executable = os.path.join(os.getcwd(), 'path', 'pathampl')\n"
   ]
  },
  {
   "cell_type": "markdown",
   "id": "d185e44e",
   "metadata": {},
   "source": [
    "#### Problem data"
   ]
  },
  {
   "cell_type": "code",
   "execution_count": 72,
   "id": "4ec1e5ab",
   "metadata": {},
   "outputs": [],
   "source": [
    "# Marginal costs\n",
    "c1 = 3\n",
    "c2 = 4\n",
    "c3 = 5\n",
    "\n",
    "# Production capacities\n",
    "X1_max = 3\n",
    "X2_max = 4\n",
    "X3_max = 2\n",
    "\n",
    "# Demand function parameters\n",
    "a = 10\n",
    "b = 1"
   ]
  },
  {
   "cell_type": "markdown",
   "id": "9dc15b0e",
   "metadata": {},
   "source": [
    "**Inverse demand curve**"
   ]
  },
  {
   "cell_type": "code",
   "execution_count": 73,
   "id": "9dc15b0e",
   "metadata": {},
   "outputs": [
    {
     "data": {
      "image/png": "[encoded data removed]",
      "text/plain": [
       "<Figure size 600x400 with 1 Axes>"
      ]
     },
     "metadata": {},
     "output_type": "display_data"
    }
   ],
   "source": [
    "# Create quantity range from 0 to choke point (where price = 0)\n",
    "def plot_inverse_demand(end_points=False):\n",
    "    Q = np.linspace(0, a/b, 100)  # From 0 to 10 (where price hits 0)\n",
    "    P = a - b * Q  # Inverse demand function: P = a - b*Q\n",
    "\n",
    "    # Create the plot\n",
    "    fig = plt.figure(figsize=(6, 4))\n",
    "    plt.plot(Q, P, 'b-', linewidth=1)\n",
    "    plt.xlabel('Quantity (Q)', fontsize=12)\n",
    "    plt.ylabel('Price (P)', fontsize=12)\n",
    "    plt.title('Inverse Demand Function', fontsize=14)\n",
    "    plt.grid(True, alpha=0.5)\n",
    "\n",
    "    # Mark key points\n",
    "    if end_points:\n",
    "        plt.scatter([0, a/b], [a, 0], color='blue', s=20, zorder=5)\n",
    "        plt.text(0.5, a-0.3, f'Choke price = {a}', fontsize=10)\n",
    "        plt.text(a/b-2, 0.2, f'Max quantity = {a/b}', fontsize=10)\n",
    "\n",
    "    plt.xlim(0, a/b + 0.5)\n",
    "    plt.ylim(0, a + 0.5)\n",
    "    plt.tight_layout()\n",
    "    \n",
    "    return fig\n",
    "\n",
    "inverse_demand = plot_inverse_demand(end_points=True)\n",
    "\n"
   ]
  },
  {
   "cell_type": "markdown",
   "id": "e3498ff4",
   "metadata": {},
   "source": [
    "Helper functions"
   ]
  },
  {
   "cell_type": "code",
   "execution_count": 74,
   "id": "0a75c185",
   "metadata": {},
   "outputs": [],
   "source": [
    "def market_price(m):\n",
    "    x = [value(m.x[i]) for i in m.x]\n",
    "    price = a - b*sum(x)\n",
    "    return round(price, 2)\n",
    "\n",
    "def optimal_production(m):\n",
    "    x = [round(value(m.x[i]),2) for i in m.x]\n",
    "    return x\n",
    "\n",
    "def market_share(m):\n",
    "    x = [value(m.x[i]) for i in m.x]\n",
    "    total_x = sum(x)\n",
    "    if total_x == 0:\n",
    "        shares = [0, 0, 0]\n",
    "    else:\n",
    "        shares = [round(xi / total_x, 2) for xi in x]\n",
    "    return shares\n",
    "\n",
    "def optimal_profits(m):\n",
    "    profits = []\n",
    "    p = market_price(m)\n",
    "    for i in m.x:\n",
    "        profit = p * value(m.x[i]) - m.c[i] * value(m.x[i])\n",
    "        profit = max(0, profit) # All profitc are positive in these models, this avoids -0.0 values.\n",
    "        profits.append(round(profit, 2))\n",
    "    return profits\n",
    "\n",
    "def social_welfare(m):\n",
    "    welfare = a * sum(value(m.x[i]) for i in [1,2,3]) \\\n",
    "                    - b/2 * sum(value(m.x[i]) for i in [1,2,3])**2 \\\n",
    "                  - sum(m.c[i] * value(m.x[i]) for i in [1,2,3])\n",
    "    return round(welfare,2)\n",
    "\n",
    "def add_results_to_table(m, setup, table): \n",
    "    # Check if setup already exists in the table\n",
    "    if len(table) == 0 or setup not in table[('Setup', '')].values:\n",
    "        # Create new row data matching MultiIndex structure\n",
    "        new_data = {\n",
    "            ('Setup', ''): [setup],\n",
    "            ('Market', 'Price'): [market_price(m)],\n",
    "            ('Production', 'Firm1'): [optimal_production(m)[0]],\n",
    "            ('Production', 'Firm2'): [optimal_production(m)[1]],\n",
    "            ('Production', 'Firm3'): [optimal_production(m)[2]],\n",
    "            ('Profit', 'Firm1'): [optimal_profits(m)[0]],\n",
    "            ('Profit', 'Firm2'): [optimal_profits(m)[1]],\n",
    "            ('Profit', 'Firm3'): [optimal_profits(m)[2]],\n",
    "            ('Social', 'Welfare'): [social_welfare(m)]\n",
    "        }\n",
    "        \n",
    "        new_row = pd.DataFrame(new_data)\n",
    "        \n",
    "        if len(table) == 0:\n",
    "            # If table is empty, just return the new row\n",
    "            table = new_row\n",
    "        else:\n",
    "            # Otherwise, concatenate normally\n",
    "            table = pd.concat([table, new_row], ignore_index=True)\n",
    "    return table\n",
    "\n",
    "def show(table):\n",
    "    #display(H ML(table.to_html(index=False)))\n",
    "    # Convert to HTML with custom styling\n",
    "    html = table.to_html(index=False, table_id=\"results\")\n",
    "    \n",
    "    # Add CSS for left alignment\n",
    "    styled_html = f\"\"\"\n",
    "    <style>\n",
    "    #results th, #results td {{\n",
    "        text-align: left !important;\n",
    "        padding: 6px 12px;\n",
    "    }}\n",
    "    #results th {{\n",
    "        font-weight: bold;\n",
    "    }}\n",
    "    #results {{\n",
    "        border-collapse: collapse;\n",
    "    }}\n",
    "    </style>\n",
    "    {html}\n",
    "    \"\"\"\n",
    "    \n",
    "    display(HTML(styled_html))\n",
    "   "
   ]
  },
  {
   "cell_type": "markdown",
   "id": "61789f46",
   "metadata": {},
   "source": [
    "Initialising result dataframe"
   ]
  },
  {
   "cell_type": "code",
   "execution_count": 75,
   "id": "b8be43b4",
   "metadata": {},
   "outputs": [
    {
     "data": {
      "text/html": [
       "\n",
       "    <style>\n",
       "    #results th, #results td {\n",
       "        text-align: left !important;\n",
       "        padding: 6px 12px;\n",
       "    }\n",
       "    #results th {\n",
       "        font-weight: bold;\n",
       "    }\n",
       "    #results {\n",
       "        border-collapse: collapse;\n",
       "    }\n",
       "    </style>\n",
       "    <table border=\"1\" class=\"dataframe\" id=\"results\">\n",
       "  <thead>\n",
       "    <tr>\n",
       "      <th>Setup</th>\n",
       "      <th>Market</th>\n",
       "      <th colspan=\"3\" halign=\"left\">Production</th>\n",
       "      <th colspan=\"3\" halign=\"left\">Profit</th>\n",
       "      <th>Social</th>\n",
       "    </tr>\n",
       "    <tr>\n",
       "      <th></th>\n",
       "      <th>Price</th>\n",
       "      <th>Firm1</th>\n",
       "      <th>Firm2</th>\n",
       "      <th>Firm3</th>\n",
       "      <th>Firm1</th>\n",
       "      <th>Firm2</th>\n",
       "      <th>Firm3</th>\n",
       "      <th>Welfare</th>\n",
       "    </tr>\n",
       "  </thead>\n",
       "  <tbody>\n",
       "  </tbody>\n",
       "</table>\n",
       "    "
      ],
      "text/plain": [
       "<IPython.core.display.HTML object>"
      ]
     },
     "metadata": {},
     "output_type": "display_data"
    }
   ],
   "source": [
    "columns = pd.MultiIndex.from_tuples([\n",
    "    ('Setup', ''),\n",
    "    ('Market', 'Price'),\n",
    "    ('Production', 'Firm1'),\n",
    "    ('Production', 'Firm2'),\n",
    "    ('Production', 'Firm3'),\n",
    "    ('Profit', 'Firm1'),\n",
    "    ('Profit', 'Firm2'),\n",
    "    ('Profit', 'Firm3'), \n",
    "    ('Social', 'Welfare')\n",
    "])\n",
    "results_table = pd.DataFrame(columns=columns)\n",
    "\n",
    "show(results_table)"
   ]
  },
  {
   "cell_type": "markdown",
   "id": "459b5908",
   "metadata": {},
   "source": [
    "## Exercise #3.1 Perfect competition"
   ]
  },
  {
   "cell_type": "markdown",
   "id": "1d1f1932",
   "metadata": {},
   "source": [
    "### Task 1: Implementation of models"
   ]
  },
  {
   "cell_type": "markdown",
   "id": "313f1a89",
   "metadata": {},
   "source": [
    "#### <span style=\"color:orange\">Welfare-maximization model</span>\n",
    "\n",
    "\\begin{align*}\n",
    "\\text{Maximize}_{x_1, x_2, x_3} \\quad\n",
    "& \\alpha \\sum_{j=1}^{3} x_j\n",
    "  - \\frac{1}{2} \\beta \\left( \\sum_{j=1}^{3} x_j \\right)^2\n",
    "  - \\sum_{j=1}^{3} c_j x_j\n",
    "\\\\\n",
    "\\text{s.t.} \\quad\n",
    "& x_i - X_i^{\\max} \\leq 0\n",
    "    \\qquad i = 1,2,3\n",
    "\\\\\n",
    "& -x_i \\leq 0,\n",
    "    \\qquad i = 1,2,3.\n",
    "\\end{align*}\n",
    "\n",
    "This is a standard quadratic programming problem, which can be solved with a standard QP solver. It has an objective function, constraints and primal variables."
   ]
  },
  {
   "cell_type": "code",
   "execution_count": 76,
   "id": "e95a467f",
   "metadata": {},
   "outputs": [],
   "source": [
    "def welfare_maximization_model(c1, c2, c3, X1_max, X2_max, X3_max):\n",
    "  # Initialize model for welfare maximization (wm)\n",
    "  wm = ConcreteModel()\n",
    "\n",
    "  # Set of firms\n",
    "  wm.I = Set(initialize=[1, 2, 3])\n",
    "  \n",
    "  # Define parameters\n",
    "  wm.c = Param(wm.I, initialize={1:c1, 2:c2, 3:c3})\n",
    "  wm.X_max = Param(wm.I, initialize={1:X1_max, 2:X2_max, 3:X3_max})\n",
    "\n",
    "  # Define nonnegative variables\n",
    "  wm.x = Var(wm.I, domain=NonNegativeReals)\n",
    "\n",
    "  # Define objective function (social welfare maximization)\n",
    "  wm.obj = Objective(expr = a * sum(wm.x[i] for i in wm.I) \\\n",
    "                      - b/2 * sum(wm.x[i] for i in wm.I)**2 \\\n",
    "                    - sum(wm.c[i] * wm.x[i] for i in wm.I), \n",
    "                    sense=maximize)\n",
    "\n",
    "  # Define constraints (production capacities)\n",
    "  def capacity_constraint_rule(m, i):\n",
    "      return m.x[i] <= m.X_max[i]\n",
    "  wm.capacity_constraint = Constraint(wm.I, rule=capacity_constraint_rule)\n",
    "\n",
    "  # Solve the model with Gurobi\n",
    "  solver = SolverFactory('gurobi')\n",
    "  results = solver.solve(wm, tee=False) # tee=False suppresses solver output\n",
    "\n",
    "  print(\"The solver found an\", results.solver.termination_condition, \"solution.\")\n",
    "\n",
    "  # Return model with results\n",
    "  return wm"
   ]
  },
  {
   "cell_type": "markdown",
   "id": "0976c2dc",
   "metadata": {},
   "source": [
    "Query results"
   ]
  },
  {
   "cell_type": "code",
   "execution_count": 77,
   "id": "79308bd5",
   "metadata": {},
   "outputs": [
    {
     "name": "stdout",
     "output_type": "stream",
     "text": [
      "The solver found an optimal solution.\n",
      "Market price: 4.0\n",
      "Optimal production (x): [3.0, 3.0, 0.0]\n",
      "Optimal profits: [3.0, 0, 0]\n",
      "Social welfare: 21.0\n"
     ]
    }
   ],
   "source": [
    "welfare_model = welfare_maximization_model(c1, c2, c3, X1_max, X2_max, X3_max)\n",
    "print(\"Market price:\", market_price(welfare_model))\n",
    "print(\"Optimal production (x):\", optimal_production(welfare_model))\n",
    "print(\"Optimal profits:\", optimal_profits(welfare_model))\n",
    "print(\"Social welfare:\", social_welfare(welfare_model))"
   ]
  },
  {
   "cell_type": "code",
   "execution_count": 78,
   "id": "2927c824",
   "metadata": {},
   "outputs": [
    {
     "data": {
      "text/html": [
       "\n",
       "    <style>\n",
       "    #results th, #results td {\n",
       "        text-align: left !important;\n",
       "        padding: 6px 12px;\n",
       "    }\n",
       "    #results th {\n",
       "        font-weight: bold;\n",
       "    }\n",
       "    #results {\n",
       "        border-collapse: collapse;\n",
       "    }\n",
       "    </style>\n",
       "    <table border=\"1\" class=\"dataframe\" id=\"results\">\n",
       "  <thead>\n",
       "    <tr>\n",
       "      <th>Setup</th>\n",
       "      <th>Market</th>\n",
       "      <th colspan=\"3\" halign=\"left\">Production</th>\n",
       "      <th colspan=\"3\" halign=\"left\">Profit</th>\n",
       "      <th>Social</th>\n",
       "    </tr>\n",
       "    <tr>\n",
       "      <th></th>\n",
       "      <th>Price</th>\n",
       "      <th>Firm1</th>\n",
       "      <th>Firm2</th>\n",
       "      <th>Firm3</th>\n",
       "      <th>Firm1</th>\n",
       "      <th>Firm2</th>\n",
       "      <th>Firm3</th>\n",
       "      <th>Welfare</th>\n",
       "    </tr>\n",
       "  </thead>\n",
       "  <tbody>\n",
       "    <tr>\n",
       "      <td>Welfare Max</td>\n",
       "      <td>4.0</td>\n",
       "      <td>3.0</td>\n",
       "      <td>3.0</td>\n",
       "      <td>0.0</td>\n",
       "      <td>3.0</td>\n",
       "      <td>0</td>\n",
       "      <td>0</td>\n",
       "      <td>21.0</td>\n",
       "    </tr>\n",
       "  </tbody>\n",
       "</table>\n",
       "    "
      ],
      "text/plain": [
       "<IPython.core.display.HTML object>"
      ]
     },
     "metadata": {},
     "output_type": "display_data"
    }
   ],
   "source": [
    "results_table = add_results_to_table(welfare_model, 'Welfare Max', results_table)\n",
    "show(results_table)"
   ]
  },
  {
   "cell_type": "markdown",
   "id": "1d3157cf",
   "metadata": {},
   "source": [
    "#### <span style=\"color:orange\">Competitive-market model</span>\n",
    "Note that this model models a perfect-competition Nash equilibrium.\n",
    "\n",
    "\\begin{align}\n",
    "& 0 \\leq x_i \\perp c_i - \\alpha + \\beta \\sum_j x_j + \\mu_i^{\\max} \\geq 0, \\quad \\forall i \\in \\{1,2,3\\}\\\\\n",
    "& 0 \\leq \\mu_i^{\\max} \\perp X_i^{\\max} - x_i  \\geq 0, \\quad \\forall i \\in \\{1,2,3\\}\n",
    "\\end{align}\n",
    "\n",
    "This is a complementarity model, which does not have an objective function but is composed of only complementarity conditions. It requires use of the PATH solver which uses a specific algorithm for this type of problem. In Python, we can use the Pyomo package, specifically it's pyomo.mpec extension."
   ]
  },
  {
   "cell_type": "code",
   "execution_count": 79,
   "id": "c05ea8b4",
   "metadata": {},
   "outputs": [],
   "source": [
    "def competitive_market_model(c1, c2, c3, X1_max, X2_max, X3_max):\n",
    "    # Initialize competitive market model (m)\n",
    "    m = ConcreteModel()\n",
    "\n",
    "    # Set of firms\n",
    "    m.I = Set(initialize=[1, 2, 3])\n",
    "\n",
    "    # Define parameters\n",
    "    m.c = Param(m.I, initialize={1:c1, 2:c2, 3:c3})\n",
    "    m.X_max = Param(m.I, initialize={1:X1_max, 2:X2_max, 3:X3_max})\n",
    "\n",
    "    # Define variables\n",
    "    m.x = Var(m.I, domain=NonNegativeReals)\n",
    "    m.mu = Var(m.I, domain=NonNegativeReals)  # Dual variables\n",
    "\n",
    "    # Complementarity constraints\n",
    "    # 0 ≤ x_i ⊥ (c_i - a + b*sum(x_j) + mu_i) ≥ 0\n",
    "    def constraint_x_rule(m, i):\n",
    "        return complements(0 <= m.x[i], m.c[i] - a + b * sum(m.x[j] for j in m.I) + m.mu[i] >= 0)\n",
    "    m.constraint_x = Complementarity(m.I, rule=constraint_x_rule)\n",
    "\n",
    "    # 0 ≤ mu_i ⊥ (X_max - x_i) ≥ 0  \n",
    "    def constraint_mu_rule(m, i):\n",
    "        return complements(0 <= m.mu[i], m.X_max[i] - m.x[i] >= 0)\n",
    "    m.c_mu1 = Complementarity(m.I, rule=constraint_mu_rule)\n",
    "\n",
    "    # Solve the model using PATH solver\n",
    "    solver = SolverFactory('pathampl', executable=path_executable)\n",
    "    results = solver.solve(m, tee=False) # tee=False suppresses solver output\n",
    "\n",
    "    print(\"The solver found an\", results.solver.termination_condition, \"solution.\")\n",
    "\n",
    "    # Return model object with results\n",
    "    return m"
   ]
  },
  {
   "cell_type": "code",
   "execution_count": 80,
   "id": "872e4056",
   "metadata": {},
   "outputs": [
    {
     "name": "stdout",
     "output_type": "stream",
     "text": [
      "The solver found an optimal solution.\n",
      "Market price: 4.0\n",
      "Optimal production (x): [3.0, 3.0, 0.0]\n",
      "Optimal profits: [3.0, 0, 0]\n",
      "Social welfare: 21.0\n"
     ]
    }
   ],
   "source": [
    "competitive_model = competitive_market_model(c1, c2, c3, X1_max, X2_max, X3_max)\n",
    "print(\"Market price:\", market_price(competitive_model))\n",
    "print(\"Optimal production (x):\", optimal_production(competitive_model))\n",
    "print(\"Optimal profits:\", optimal_profits(competitive_model))\n",
    "print(\"Social welfare:\", social_welfare(competitive_model))"
   ]
  },
  {
   "cell_type": "code",
   "execution_count": 81,
   "id": "220087e2",
   "metadata": {},
   "outputs": [
    {
     "data": {
      "text/html": [
       "\n",
       "    <style>\n",
       "    #results th, #results td {\n",
       "        text-align: left !important;\n",
       "        padding: 6px 12px;\n",
       "    }\n",
       "    #results th {\n",
       "        font-weight: bold;\n",
       "    }\n",
       "    #results {\n",
       "        border-collapse: collapse;\n",
       "    }\n",
       "    </style>\n",
       "    <table border=\"1\" class=\"dataframe\" id=\"results\">\n",
       "  <thead>\n",
       "    <tr>\n",
       "      <th>Setup</th>\n",
       "      <th>Market</th>\n",
       "      <th colspan=\"3\" halign=\"left\">Production</th>\n",
       "      <th colspan=\"3\" halign=\"left\">Profit</th>\n",
       "      <th>Social</th>\n",
       "    </tr>\n",
       "    <tr>\n",
       "      <th></th>\n",
       "      <th>Price</th>\n",
       "      <th>Firm1</th>\n",
       "      <th>Firm2</th>\n",
       "      <th>Firm3</th>\n",
       "      <th>Firm1</th>\n",
       "      <th>Firm2</th>\n",
       "      <th>Firm3</th>\n",
       "      <th>Welfare</th>\n",
       "    </tr>\n",
       "  </thead>\n",
       "  <tbody>\n",
       "    <tr>\n",
       "      <td>Welfare Max</td>\n",
       "      <td>4.0</td>\n",
       "      <td>3.0</td>\n",
       "      <td>3.0</td>\n",
       "      <td>0.0</td>\n",
       "      <td>3.0</td>\n",
       "      <td>0</td>\n",
       "      <td>0</td>\n",
       "      <td>21.0</td>\n",
       "    </tr>\n",
       "    <tr>\n",
       "      <td>Competitive NE</td>\n",
       "      <td>4.0</td>\n",
       "      <td>3.0</td>\n",
       "      <td>3.0</td>\n",
       "      <td>0.0</td>\n",
       "      <td>3.0</td>\n",
       "      <td>0</td>\n",
       "      <td>0</td>\n",
       "      <td>21.0</td>\n",
       "    </tr>\n",
       "  </tbody>\n",
       "</table>\n",
       "    "
      ],
      "text/plain": [
       "<IPython.core.display.HTML object>"
      ]
     },
     "metadata": {},
     "output_type": "display_data"
    }
   ],
   "source": [
    "results_table = add_results_to_table(competitive_model, 'Competitive NE', results_table)\n",
    "show(results_table)"
   ]
  },
  {
   "cell_type": "markdown",
   "id": "d0c7dad9",
   "metadata": {},
   "source": [
    "Visualise the demand and supply curves"
   ]
  },
  {
   "cell_type": "code",
   "execution_count": 105,
   "id": "66252987",
   "metadata": {},
   "outputs": [
    {
     "data": {
      "image/png": "[encoded data removed]",
      "text/plain": [
       "<Figure size 600x400 with 1 Axes>"
      ]
     },
     "metadata": {},
     "output_type": "display_data"
    }
   ],
   "source": [
    "def competitive_market_plot(c1, c2, c3, X1_max, X2_max, X3_max):\n",
    "    \n",
    "    fig = plot_inverse_demand()\n",
    "    # Create supply curves for each firm (marginal cost lines)\n",
    "    # For perfectly competitive firms, supply curve is horizontal at marginal cost up to capacity\n",
    "    firms = [\n",
    "        {'name': 'Firm 1', 'cost': c1, 'capacity': X1_max},\n",
    "        {'name': 'Firm 2', 'cost': c2, 'capacity': X2_max},\n",
    "        {'name': 'Firm 3', 'cost': c3, 'capacity': X3_max}\n",
    "    ]\n",
    "\n",
    "    # Sort firms by marginal cost (lowest to highest)\n",
    "    firms_sorted = sorted(firms, key=lambda x: x['cost'])\n",
    "\n",
    "    # Create aggregate supply curve as step function\n",
    "    supply_quantities = [0]  # Start at quantity 0\n",
    "    supply_prices = [0]      # Start at price 0\n",
    "\n",
    "    cumulative_quantity = 0\n",
    "    for i, firm in enumerate(firms_sorted):\n",
    "        # Add horizontal segment at firm's marginal cost\n",
    "        supply_quantities.append(cumulative_quantity)\n",
    "        supply_prices.append(firm['cost'])\n",
    "        \n",
    "        # Add capacity to cumulative quantity\n",
    "        cumulative_quantity += firm['capacity']\n",
    "        supply_quantities.append(cumulative_quantity)\n",
    "        supply_prices.append(firm['cost'])\n",
    "\n",
    "    # Add final segment to extend supply curve upward\n",
    "    supply_quantities.append(cumulative_quantity)  # Final quantity\n",
    "    supply_prices.append(20)  # Final price back to 0\n",
    "\n",
    "    # Plot the aggregate supply curve\n",
    "    plt.step(supply_quantities, supply_prices, where='post', color='darkred', \n",
    "            linewidth=2, alpha=0.8)\n",
    "\n",
    "    # Plot individual firm contributions with different colors\n",
    "    cumulative_q = 0\n",
    "    for i, firm in enumerate(firms_sorted):\n",
    "        # Add capacity label\n",
    "        plt.text(cumulative_q + firm['capacity']/2, firm['cost'] + 0.2, \n",
    "                f\"{firm['name']}\\nCap = {firm['capacity']}\", \n",
    "                ha='center', fontsize=9, color='darkred')\n",
    "        \n",
    "        cumulative_q += firm['capacity']\n",
    "\n",
    " \n",
    "\n",
    "    # Add grid and labels\n",
    "    plt.title('Competitive market', fontsize=14, pad=20)\n",
    "\n",
    "    # Set axis limits with some padding\n",
    "    plt.xlim(0, max(a/b, X1_max + X2_max + X3_max) + 0.5)\n",
    "    plt.ylim(0, a + 0.5)\n",
    "\n",
    "    plt.tight_layout()\n",
    "    plt.show()\n",
    "\n",
    "competitive_market_plot(c1, c2, c3, X1_max, X2_max, X3_max)"
   ]
  },
  {
   "cell_type": "markdown",
   "id": "4929b29e",
   "metadata": {},
   "source": [
    "### Task 2: Sensitivity analysis"
   ]
  },
  {
   "cell_type": "markdown",
   "id": "0960cde6",
   "metadata": {},
   "source": [
    "Change the costs of the firms so that firm 3 starts producing"
   ]
  },
  {
   "cell_type": "code",
   "execution_count": 106,
   "id": "4dec67c3",
   "metadata": {},
   "outputs": [
    {
     "name": "stdout",
     "output_type": "stream",
     "text": [
      "The solver found an optimal solution.\n",
      "Market price: 4.0\n",
      "Optimal production (x): [3.0, 3.0, 0.0]\n",
      "Optimal profits: [3.0, 0, 0]\n",
      "Social welfare: 21.0\n"
     ]
    },
    {
     "data": {
      "image/png": "[encoded data removed]",
      "text/plain": [
       "<Figure size 600x400 with 1 Axes>"
      ]
     },
     "metadata": {},
     "output_type": "display_data"
    }
   ],
   "source": [
    "# Change these values to see how the results change\n",
    "c1_new = 3\n",
    "c2_new = 4\n",
    "c3_new = 5\n",
    "\n",
    "cm_new = competitive_market_model(c1_new, c2_new, c3_new, X1_max, X2_max, X3_max)\n",
    "print(\"Market price:\", market_price(cm_new))\n",
    "print(\"Optimal production (x):\", optimal_production(cm_new))\n",
    "print(\"Optimal profits:\", optimal_profits(cm_new))\n",
    "print(\"Social welfare:\", social_welfare(cm_new))\n",
    "\n",
    "competitive_market_plot(c1_new, c2_new, c3_new, X1_max, X2_max, X3_max)"
   ]
  },
  {
   "cell_type": "markdown",
   "id": "204bbcdf",
   "metadata": {},
   "source": [
    "Increase the production capacities of the firms and observe the changes in the results.\n",
    "\n",
    "Is there a change in the production schedules, if so why or why not?\n",
    "\n",
    "How large would firm 1’s capacity have to be for it to set the market price? \n"
   ]
  },
  {
   "cell_type": "code",
   "execution_count": 108,
   "id": "faa8d314",
   "metadata": {},
   "outputs": [
    {
     "name": "stdout",
     "output_type": "stream",
     "text": [
      "The solver found an optimal solution.\n",
      "Market price: 4.0\n",
      "Optimal production (x): [3.0, 3.0, 0.0]\n",
      "Optimal profits: [3.0, 0, 0]\n",
      "Social welfare: 21.0\n"
     ]
    },
    {
     "data": {
      "image/png": "[encoded data removed]",
      "text/plain": [
       "<Figure size 600x400 with 1 Axes>"
      ]
     },
     "metadata": {},
     "output_type": "display_data"
    }
   ],
   "source": [
    "# Increase X_max values to see how the results change\n",
    "X1_max_new = 3\n",
    "X2_max_new = 4\n",
    "X3_max_new = 2\n",
    "\n",
    "cm_new = competitive_market_model(c1, c2, c3, X1_max_new, X2_max_new, X3_max_new)\n",
    "print(\"Market price:\", market_price(cm_new))\n",
    "print(\"Optimal production (x):\", optimal_production(cm_new))\n",
    "print(\"Optimal profits:\", optimal_profits(cm_new))\n",
    "print(\"Social welfare:\", social_welfare(cm_new))\n",
    "\n",
    "competitive_market_plot(c1, c2, c3, X1_max_new, X2_max_new, X3_max_new)"
   ]
  },
  {
   "cell_type": "markdown",
   "id": "080fffd8",
   "metadata": {},
   "source": [
    "## Exercise #3.2 Cournot competition"
   ]
  },
  {
   "cell_type": "markdown",
   "id": "825e5fe7",
   "metadata": {},
   "source": [
    "### Task 1: Implementation of model\n",
    "\n",
    "#### <span style=\"color:orange\">Cournot competition model</span>\n",
    "\n",
    "\\begin{align}\n",
    "&0 \\leq x_i \\perp c_i + \\beta x_i - \\alpha + \\beta \\sum_{j} x_j + \\mu_i^{\\max} \\geq 0, \\quad i = 1, 2, 3\\\\\n",
    "&0 \\leq \\mu_i^{\\max} \\perp X_i^{\\max} - x_i  \\geq 0, \\quad i = 1, 2, 3\n",
    "\\end{align}\n"
   ]
  },
  {
   "cell_type": "code",
   "execution_count": 85,
   "id": "3cfe62be",
   "metadata": {},
   "outputs": [],
   "source": [
    "def cournot_market_model(c1, c2, c3, X1_max, X2_max, X3_max, print_status=True):\n",
    "    # Initialize cournot market model (m)\n",
    "    m = ConcreteModel()\n",
    "\n",
    "    # Set of firms\n",
    "    m.I = Set(initialize=[1, 2, 3])\n",
    "\n",
    "    # Define parameters\n",
    "    m.c = Param(m.I, initialize={1:c1, 2:c2, 3:c3})\n",
    "    m.X_max = Param(m.I, initialize={1:X1_max, 2:X2_max, 3:X3_max})\n",
    "\n",
    "    # Define variables\n",
    "    m.x = Var(m.I, domain=NonNegativeReals)\n",
    "    m.mu = Var(m.I, domain=NonNegativeReals)  # Dual variables\n",
    "\n",
    "    # Complementarity constraints\n",
    "    # 0 ≤ x_i ⊥ (c_i + bx_i - a + b*sum(x_j) + mu_i) ≥ 0\n",
    "    def constraint_x_rule(m, i):\n",
    "        return complements(0 <= m.x[i], m.c[i] + b * m.x[i] - a + b * sum(m.x[j] for j in m.I) + m.mu[i] >= 0)\n",
    "    m.constraint_x = Complementarity(m.I, rule=constraint_x_rule)\n",
    "\n",
    "    # 0 ≤ mu_i ⊥ (X_max - x_i) ≥ 0  \n",
    "    def constraint_mu_rule(m, i):\n",
    "        return complements(0 <= m.mu[i], m.X_max[i] - m.x[i] >= 0)\n",
    "    m.c_mu1 = Complementarity(m.I, rule=constraint_mu_rule)\n",
    "\n",
    "    # Solve the model using PATH solver\n",
    "    solver = SolverFactory('pathampl', executable=path_executable)\n",
    "    results = solver.solve(m, tee=False) # tee=False suppresses solver output\n",
    "\n",
    "    if print_status:\n",
    "        print(\"The solver found an\", results.solver.termination_condition, \"solution.\")\n",
    "\n",
    "    # Return model object with results\n",
    "    return m"
   ]
  },
  {
   "cell_type": "code",
   "execution_count": 86,
   "id": "f62dbf12",
   "metadata": {},
   "outputs": [
    {
     "name": "stdout",
     "output_type": "stream",
     "text": [
      "The solver found an optimal solution.\n",
      "Market price: 5.5\n",
      "Optimal production (x): [2.5, 1.5, 0.5]\n",
      "Optimal profits: [6.25, 2.25, 0.25]\n",
      "Social welfare: 18.88\n"
     ]
    }
   ],
   "source": [
    "cournot_model = cournot_market_model(c1, c2, c3, X1_max, X2_max, X3_max)\n",
    "print(\"Market price:\", market_price(cournot_model))\n",
    "print(\"Optimal production (x):\", optimal_production(cournot_model))\n",
    "print(\"Optimal profits:\", optimal_profits(cournot_model))\n",
    "print(\"Social welfare:\", social_welfare(cournot_model))"
   ]
  },
  {
   "cell_type": "code",
   "execution_count": 87,
   "id": "5b7ef63c",
   "metadata": {},
   "outputs": [
    {
     "data": {
      "text/html": [
       "\n",
       "    <style>\n",
       "    #results th, #results td {\n",
       "        text-align: left !important;\n",
       "        padding: 6px 12px;\n",
       "    }\n",
       "    #results th {\n",
       "        font-weight: bold;\n",
       "    }\n",
       "    #results {\n",
       "        border-collapse: collapse;\n",
       "    }\n",
       "    </style>\n",
       "    <table border=\"1\" class=\"dataframe\" id=\"results\">\n",
       "  <thead>\n",
       "    <tr>\n",
       "      <th>Setup</th>\n",
       "      <th>Market</th>\n",
       "      <th colspan=\"3\" halign=\"left\">Production</th>\n",
       "      <th colspan=\"3\" halign=\"left\">Profit</th>\n",
       "      <th>Social</th>\n",
       "    </tr>\n",
       "    <tr>\n",
       "      <th></th>\n",
       "      <th>Price</th>\n",
       "      <th>Firm1</th>\n",
       "      <th>Firm2</th>\n",
       "      <th>Firm3</th>\n",
       "      <th>Firm1</th>\n",
       "      <th>Firm2</th>\n",
       "      <th>Firm3</th>\n",
       "      <th>Welfare</th>\n",
       "    </tr>\n",
       "  </thead>\n",
       "  <tbody>\n",
       "    <tr>\n",
       "      <td>Welfare Max</td>\n",
       "      <td>4.0</td>\n",
       "      <td>3.0</td>\n",
       "      <td>3.0</td>\n",
       "      <td>0.0</td>\n",
       "      <td>3.00</td>\n",
       "      <td>0.00</td>\n",
       "      <td>0.00</td>\n",
       "      <td>21.00</td>\n",
       "    </tr>\n",
       "    <tr>\n",
       "      <td>Competitive NE</td>\n",
       "      <td>4.0</td>\n",
       "      <td>3.0</td>\n",
       "      <td>3.0</td>\n",
       "      <td>0.0</td>\n",
       "      <td>3.00</td>\n",
       "      <td>0.00</td>\n",
       "      <td>0.00</td>\n",
       "      <td>21.00</td>\n",
       "    </tr>\n",
       "    <tr>\n",
       "      <td>Cournot NE</td>\n",
       "      <td>5.5</td>\n",
       "      <td>2.5</td>\n",
       "      <td>1.5</td>\n",
       "      <td>0.5</td>\n",
       "      <td>6.25</td>\n",
       "      <td>2.25</td>\n",
       "      <td>0.25</td>\n",
       "      <td>18.88</td>\n",
       "    </tr>\n",
       "  </tbody>\n",
       "</table>\n",
       "    "
      ],
      "text/plain": [
       "<IPython.core.display.HTML object>"
      ]
     },
     "metadata": {},
     "output_type": "display_data"
    }
   ],
   "source": [
    "results_table = add_results_to_table(cournot_model, 'Cournot NE', results_table)\n",
    "show(results_table)"
   ]
  },
  {
   "cell_type": "markdown",
   "id": "2538d432",
   "metadata": {},
   "source": [
    "### Task 2: Evaluating market share"
   ]
  },
  {
   "cell_type": "markdown",
   "id": "b079c1dc",
   "metadata": {},
   "source": [
    "Investigate the effect of increasing production capacities"
   ]
  },
  {
   "cell_type": "code",
   "execution_count": 88,
   "id": "04a5d10d",
   "metadata": {},
   "outputs": [
    {
     "name": "stdout",
     "output_type": "stream",
     "text": [
      "The solver found an optimal solution.\n",
      "Market price: 5.5\n",
      "Optimal production (x): [2.5, 1.5, 0.5]\n",
      "Optimal profits: [6.25, 2.25, 0.25]\n",
      "Social welfare: 18.88\n"
     ]
    }
   ],
   "source": [
    "# Change X_max values so that a firm is able to fulfill maximum demand\n",
    "X1_max_new = 3\n",
    "X2_max_new = 4\n",
    "X3_max_new = 2\n",
    "\n",
    "cournot_new = cournot_market_model(c1, c2, c3, X1_max_new, X2_max_new, X3_max_new)\n",
    "print(\"Market price:\", market_price(cournot_new))\n",
    "print(\"Optimal production (x):\", optimal_production(cournot_new))\n",
    "print(\"Optimal profits:\", optimal_profits(cournot_new))\n",
    "print(\"Social welfare:\", social_welfare(cournot_new))"
   ]
  },
  {
   "cell_type": "code",
   "execution_count": 89,
   "id": "cc727b64",
   "metadata": {},
   "outputs": [],
   "source": [
    "c1_new = [0, 1, 2, 3, 4, 5, 6, 7, 8, 9, 10]\n",
    "c2_new = 4\n",
    "c3_new = 5\n",
    "\n",
    "# With X = 10, a firm is able to fulfill maximum demand\n",
    "X1_max_new = 10\n",
    "X2_max_new = 10\n",
    "X3_max_new = 10\n",
    "\n",
    "profits1 = []\n",
    "market_shares1 = []\n",
    "\n",
    "for c in c1_new:\n",
    "    cournot_new = cournot_market_model(c, c2_new, c3_new, X1_max_new, X2_max_new, X3_max_new, print_status=False)\n",
    "    profits1.append(optimal_profits(cournot_new)[0])\n",
    "    market_shares1.append(market_share(cournot_new)[0])"
   ]
  },
  {
   "cell_type": "markdown",
   "id": "3192dafe",
   "metadata": {},
   "source": [
    "Plot the profits and market shares of firm 1 as a function of its marginal cost"
   ]
  },
  {
   "cell_type": "code",
   "execution_count": 90,
   "id": "7d6ee75e",
   "metadata": {},
   "outputs": [
    {
     "data": {
      "image/png": "[encoded data removed]",
      "text/plain": [
       "<Figure size 1000x400 with 2 Axes>"
      ]
     },
     "metadata": {},
     "output_type": "display_data"
    }
   ],
   "source": [
    "# Initialise subplots\n",
    "fig, (ax1, ax2) = plt.subplots(1,2, figsize=(10,4))\n",
    "\n",
    "# Plot Firm 1 profit vs c1\n",
    "ax1.plot(c1_new, profits1, marker='o')\n",
    "ax1.set_title('Firm 1 Profit vs. Marginal Cost (c1)')\n",
    "\n",
    "# Plot Firm 1 market share vs c1\n",
    "ax2.plot(c1_new, market_shares1, marker='x')\n",
    "ax2.set_title('Firm 1 Market Share vs. Marginal Cost (c1)')\n",
    "\n",
    "# Additional plot settings\n",
    "ax1.set_xlabel('c1')\n",
    "ax1.set_ylabel('Profit')\n",
    "ax1.set_xlim(0, 10)\n",
    "ax1.set_ylim(0, 24)\n",
    "ax2.set_xlabel('c1')\n",
    "ax2.set_ylabel('Market Share')\n",
    "ax2.set_xlim(0, 10)\n",
    "ax2.set_ylim(0, 1)\n",
    "plt.tight_layout()\n",
    "\n",
    "# Show plot\n",
    "plt.show()"
   ]
  },
  {
   "cell_type": "markdown",
   "id": "3c9f1325",
   "metadata": {},
   "source": [
    "## Exercise #3.3 Generalized Nash equilibrium"
   ]
  },
  {
   "cell_type": "markdown",
   "id": "3d5f8903",
   "metadata": {},
   "source": [
    "### Task 1: Implementation\n",
    "#### <span style=\"color:orange\">Generalized Nash equilibrium model</span>\n",
    "\n",
    "\\begin{align}\n",
    "&0 \\leq x_i \\perp c_i + \\beta x_i - \\alpha + \\beta \\sum_j x_j + \\mu_i^{\\max} + \\delta_i \\geq 0, \\quad i = 1,2,3\\\\\n",
    "&0 \\leq \\mu_i^{\\max} \\perp X_i^{\\max} - x_i \\geq 0, \\quad i = 1,2,3 \\\\\n",
    "&0 \\leq \\delta_i \\perp X^{\\text{total}} - \\sum_i x_i  \\geq 0\n",
    "\\end{align}"
   ]
  },
  {
   "cell_type": "code",
   "execution_count": 91,
   "id": "71e9d243",
   "metadata": {},
   "outputs": [],
   "source": [
    "def GNE_market_model(c1, c2, c3, X1_max, X2_max, X3_max, X_total, print_status=False):\n",
    "    # Initialize cournot market model (m)\n",
    "    m = ConcreteModel()\n",
    "\n",
    "    # Set of firms\n",
    "    m.I = Set(initialize=[1, 2, 3])\n",
    "\n",
    "    # Define parameters\n",
    "    m.c = Param(m.I, initialize={1:c1, 2:c2, 3:c3})\n",
    "    m.X_max = Param(m.I, initialize={1:X1_max, 2:X2_max, 3:X3_max})\n",
    "\n",
    "    # Define variables\n",
    "    m.x = Var(m.I, domain=NonNegativeReals)\n",
    "    m.mu = Var(m.I, domain=NonNegativeReals)  # Dual variables\n",
    "    m.delta = Var(domain=NonNegativeReals)  # New dual variable for GNE - one shared among firms\n",
    "\n",
    "    # Complementarity constraints\n",
    "    # 0 ≤ x_i ⊥ (c_i + bx_i - a + b*sum(x_j) + mu_i + delta) ≥ 0\n",
    "    def constraint_x_rule(m, i):\n",
    "        return complements(0 <= m.x[i], m.c[i] + b * m.x[i] - a + b * sum(m.x[j] for j in m.I) + m.mu[i] + m.delta >= 0)\n",
    "    m.constraint_x = Complementarity(m.I, rule=constraint_x_rule)\n",
    "\n",
    "    # 0 ≤ mu_i ⊥ (X_max - x_i) ≥ 0  \n",
    "    def constraint_mu_rule(m, i):\n",
    "        return complements(0 <= m.mu[i], m.X_max[i] - m.x[i] >= 0)\n",
    "    m.c_mu1 = Complementarity(m.I, rule=constraint_mu_rule)\n",
    "\n",
    "    # GNE-specific constraint\n",
    "    # 0 ≤ delta_i ⊥ X^total - sum(x_j) ≥ 0\n",
    "    m.c_delta = Complementarity(expr = \n",
    "                                complements(0 <= m.delta, X_total - sum(m.x[j] for j in m.I) >= 0))\n",
    "\n",
    "\n",
    "    # Solve the model using PATH solver\n",
    "    solver = SolverFactory('pathampl', executable=path_executable)\n",
    "    results = solver.solve(m, tee=False) # tee=False suppresses solver output\n",
    "\n",
    "    if print_status:\n",
    "        print(\"The solver found an\", results.solver.termination_condition, \"solution.\")\n",
    "\n",
    "    # Return model object with results\n",
    "    return m"
   ]
  },
  {
   "cell_type": "code",
   "execution_count": 92,
   "id": "78f34869",
   "metadata": {},
   "outputs": [
    {
     "name": "stdout",
     "output_type": "stream",
     "text": [
      "The solver found an optimal solution.\n",
      "Market price: 6.0\n",
      "Optimal production (x): [2.33, 1.33, 0.33]\n",
      "Optimal profits: [7.0, 2.67, 0.33]\n",
      "Social welfare: 18.0\n"
     ]
    }
   ],
   "source": [
    "X_total = 4\n",
    "\n",
    "GNE_model = GNE_market_model(c1, c2, c3, X1_max, X2_max, X3_max, X_total, print_status=True)\n",
    "print(\"Market price:\", market_price(GNE_model))\n",
    "print(\"Optimal production (x):\", optimal_production(GNE_model))\n",
    "print(\"Optimal profits:\", optimal_profits(GNE_model))\n",
    "print(\"Social welfare:\", social_welfare(GNE_model))"
   ]
  },
  {
   "cell_type": "code",
   "execution_count": 93,
   "id": "7a1ec408",
   "metadata": {},
   "outputs": [
    {
     "data": {
      "text/html": [
       "\n",
       "    <style>\n",
       "    #results th, #results td {\n",
       "        text-align: left !important;\n",
       "        padding: 6px 12px;\n",
       "    }\n",
       "    #results th {\n",
       "        font-weight: bold;\n",
       "    }\n",
       "    #results {\n",
       "        border-collapse: collapse;\n",
       "    }\n",
       "    </style>\n",
       "    <table border=\"1\" class=\"dataframe\" id=\"results\">\n",
       "  <thead>\n",
       "    <tr>\n",
       "      <th>Setup</th>\n",
       "      <th>Market</th>\n",
       "      <th colspan=\"3\" halign=\"left\">Production</th>\n",
       "      <th colspan=\"3\" halign=\"left\">Profit</th>\n",
       "      <th>Social</th>\n",
       "    </tr>\n",
       "    <tr>\n",
       "      <th></th>\n",
       "      <th>Price</th>\n",
       "      <th>Firm1</th>\n",
       "      <th>Firm2</th>\n",
       "      <th>Firm3</th>\n",
       "      <th>Firm1</th>\n",
       "      <th>Firm2</th>\n",
       "      <th>Firm3</th>\n",
       "      <th>Welfare</th>\n",
       "    </tr>\n",
       "  </thead>\n",
       "  <tbody>\n",
       "    <tr>\n",
       "      <td>Welfare Max</td>\n",
       "      <td>4.0</td>\n",
       "      <td>3.00</td>\n",
       "      <td>3.00</td>\n",
       "      <td>0.00</td>\n",
       "      <td>3.00</td>\n",
       "      <td>0.00</td>\n",
       "      <td>0.00</td>\n",
       "      <td>21.00</td>\n",
       "    </tr>\n",
       "    <tr>\n",
       "      <td>Competitive NE</td>\n",
       "      <td>4.0</td>\n",
       "      <td>3.00</td>\n",
       "      <td>3.00</td>\n",
       "      <td>0.00</td>\n",
       "      <td>3.00</td>\n",
       "      <td>0.00</td>\n",
       "      <td>0.00</td>\n",
       "      <td>21.00</td>\n",
       "    </tr>\n",
       "    <tr>\n",
       "      <td>Cournot NE</td>\n",
       "      <td>5.5</td>\n",
       "      <td>2.50</td>\n",
       "      <td>1.50</td>\n",
       "      <td>0.50</td>\n",
       "      <td>6.25</td>\n",
       "      <td>2.25</td>\n",
       "      <td>0.25</td>\n",
       "      <td>18.88</td>\n",
       "    </tr>\n",
       "    <tr>\n",
       "      <td>GNE</td>\n",
       "      <td>6.0</td>\n",
       "      <td>2.33</td>\n",
       "      <td>1.33</td>\n",
       "      <td>0.33</td>\n",
       "      <td>7.00</td>\n",
       "      <td>2.67</td>\n",
       "      <td>0.33</td>\n",
       "      <td>18.00</td>\n",
       "    </tr>\n",
       "  </tbody>\n",
       "</table>\n",
       "    "
      ],
      "text/plain": [
       "<IPython.core.display.HTML object>"
      ]
     },
     "metadata": {},
     "output_type": "display_data"
    }
   ],
   "source": [
    "results_table = add_results_to_table(GNE_model, 'GNE', results_table)\n",
    "show(results_table)"
   ]
  },
  {
   "cell_type": "markdown",
   "id": "5216cdd5",
   "metadata": {},
   "source": [
    "### Task 2: Vary cap on total supply"
   ]
  },
  {
   "cell_type": "code",
   "execution_count": 94,
   "id": "87c22532",
   "metadata": {},
   "outputs": [],
   "source": [
    "X_total_new = [0, 1, 2, 3, 4, 5, 6, 7, 8, 9, 10]\n",
    "\n",
    "delta_values_GNE = []\n",
    "market_prices_GNE = []\n",
    "\n",
    "for X in X_total_new:\n",
    "    GNE_model_new = GNE_market_model(c1, c2, c3, X1_max, X2_max, X3_max, X)\n",
    "    delta_values_GNE.append(round(value(GNE_model_new.delta), 2))\n",
    "    market_prices_GNE.append(market_price(GNE_model_new))"
   ]
  },
  {
   "cell_type": "code",
   "execution_count": 95,
   "id": "955c094f",
   "metadata": {},
   "outputs": [
    {
     "data": {
      "image/png": "[encoded data removed]",
      "text/plain": [
       "<Figure size 1000x400 with 2 Axes>"
      ]
     },
     "metadata": {},
     "output_type": "display_data"
    }
   ],
   "source": [
    "# Initialise subplots\n",
    "fig, (ax1, ax2) = plt.subplots(1,2, figsize=(10,4))\n",
    "\n",
    "# Plot Firm 1 profit vs c1\n",
    "ax1.plot(X_total_new, delta_values_GNE, marker='o')\n",
    "ax1.set_title('Supply cap vs. Lagrange multiplier')\n",
    "\n",
    "# Plot Firm 1 market share vs c1\n",
    "ax2.plot(X_total_new, market_prices_GNE, marker='x')\n",
    "ax2.set_title('Supply cap vs. market prices')\n",
    "\n",
    "# Additional plot settings\n",
    "ax1.set_xlabel('X^total')\n",
    "ax1.set_ylabel('Lagrange multiplier')\n",
    "ax1.set_xlim(0, 10)\n",
    "ax1.set_ylim(0, 8)\n",
    "ax2.set_xlabel('X^total')\n",
    "ax2.set_ylabel('Market price')\n",
    "ax2.set_xlim(0, 10)\n",
    "ax2.grid(True, alpha = 0.5)\n",
    "ax1.grid(True, alpha = 0.5)\n",
    "ax2.set_ylim(0, 10)\n",
    "plt.tight_layout()\n",
    "\n",
    "# Show plot\n",
    "plt.show()"
   ]
  },
  {
   "cell_type": "markdown",
   "id": "56203368",
   "metadata": {},
   "source": [
    "## Exercise #3.4 Stackelberg game"
   ]
  },
  {
   "cell_type": "markdown",
   "id": "c5726238",
   "metadata": {},
   "source": [
    "Here we assume a Stackelberg game where firm 1 is the leader and firms 2 and 3 are followers. The leader anticipates the reaction of the followers to its production decision. The leader's problem can be formulated as a bilevel optimization problem:\n",
    "\n",
    "\n",
    "\\begin{align}\n",
    "    \\min_{x_1, x_2, x_3} \\quad & c_1 x_1 - \\left( \\alpha - \\beta \\sum_{i=1}^{3} x_i \\right) x_1 \\\\\n",
    "    \\text{s.t.} \\quad & x_1 - X_1^{\\max} \\leq 0 \\\\\n",
    "    & -x_1 \\leq 0 \\\\\n",
    "    & \\text{Lower-level problem:} \\nonumber \\\\\n",
    "    &0 \\leq x_i \\perp c_i + \\beta x_i - \\alpha + \\beta \\sum_j x_j + \\mu_i^{\\max} \\geq 0, \\quad i = 2,3\\\\\n",
    "    &0 \\leq \\mu_i^{\\max} \\perp X_i^{\\max} - x_i \\geq 0, \\quad i = 2,3 \\\\\n",
    "\\end{align}\n",
    "\n",
    "This model has several complexities: a  <span style=\"color:orange\">**quadratic objective**</span> and <span style=\"color:orange\">**complementarity constraints**</span>. Luckily, the objective is convex. \n",
    "\n"
   ]
  },
  {
   "cell_type": "markdown",
   "id": "5f5ad97d",
   "metadata": {},
   "source": [
    "### Task 1: Implementation of model with big-M and SOS1 variable reformulations"
   ]
  },
  {
   "cell_type": "markdown",
   "id": "6b06e2ba",
   "metadata": {},
   "source": [
    "#### Big-M reformulation\n",
    "\n",
    "In the big-M variable transformation, a complementarity constraint of the form $$0 \\leq x \\perp F(x) \\geq 0$$ is reformulated and results in the following constraints:\n",
    "\n",
    "\\begin{align*}\n",
    "    & x \\leq Mz \\\\\n",
    "    & F(x) \\leq M(1-z) \\\\\n",
    "    & F(x) \\geq 0 \\\\\n",
    "    & x \\geq 0 \\\\\n",
    "    & z \\in \\{0, 1\\}\n",
    "\\end{align*}\n",
    "\n"
   ]
  },
  {
   "cell_type": "markdown",
   "id": "c72d97f9",
   "metadata": {},
   "source": [
    "For the firm 1's bilevel problem this would mean:\n",
    "\n",
    "\\begin{align}\n",
    "    \\min_{x_1, x_2, x_3} \\quad & c_1 x_1 - \\left( \\alpha - \\beta \\sum_{i=1}^{3} x_i \\right) x_1 \\\\\n",
    "    \\text{s.t.} \\quad & x_1 - X_1^{\\max} \\leq 0 \\\\\n",
    "    & -x_1 \\leq 0 \\\\\n",
    "    & \\text{Lower-level problem:} \\nonumber \\\\\n",
    "    & \\text{Nonnegativity:} \\nonumber \\\\\n",
    "    & 0 \\leq x_i, \\quad & i = 2, 3\\\\\n",
    "    & 0 \\leq c_i + \\beta x_i - \\alpha + \\beta \\sum_j x_j + \\mu_i^{\\max}, \\quad & i = 2, 3\\\\\n",
    "    & 0 \\leq \\mu_i^{\\max}, \\quad & i = 2, 3\\\\\n",
    "    & 0 \\leq X_i^{\\max} - x_i, \\quad & i = 2, 3\\\\\n",
    "    & \\text{Complementarity:} \\nonumber \\\\\n",
    "    & x_i \\leq M z_i, \\quad & i = 2, 3 \\\\\n",
    "    & c_i + \\beta x_i - \\alpha + \\beta \\sum_j x_j + \\mu_i^{\\max} \\leq M (1 - z_i), \\quad & i = 2,3\\\\\n",
    "    & \\mu_i^{\\max} \\leq M y_i, \\quad & i = 2, 3 \\\\\n",
    "    & X_i^{\\max} - x_i \\leq M (1 - y_i), \\quad & i = 2,3 \\\\\n",
    "    & \\text{Auxiliary variable definitions:} \\nonumber \\\\\n",
    "    & z_i, y_i \\in \\{0, 1\\}, \\quad & i = 2, 3\n",
    "\\end{align}\n",
    "\n",
    "To solve this, we need a solver that can handle <span style=\"color:orange\">mixed-integer quadratic programs (MIQP)</span> and we need to *choose* the big-$M$ values."
   ]
  },
  {
   "cell_type": "code",
   "execution_count": 110,
   "id": "646c13ad",
   "metadata": {},
   "outputs": [],
   "source": [
    "# Implementation?"
   ]
  },
  {
   "cell_type": "markdown",
   "id": "e789a277",
   "metadata": {},
   "source": [
    "#### SOS1 variable transformation\n",
    "\n"
   ]
  },
  {
   "cell_type": "markdown",
   "id": "199e75a5",
   "metadata": {},
   "source": [
    "In the special ordered sets 1 (SOS1) variable transformation, a complementarity constraint of the form $$0 \\leq x \\perp F(x) \\geq 0$$ is reformulated and results in the following constraints:\n",
    "\n",
    "\\begin{align*}\n",
    "    &2 (v^+ + v^-) = x + F(x) \\\\\n",
    "    & 2 (v^+ - v^-) = x - F(x) \\\\\n",
    "    & F(x) \\geq 0 \\\\\n",
    "    & v^+, v^- \\text{ are SOS1} \\\\\n",
    "    & v^+, v^-, x \\geq 0 \\\\\n",
    "\\end{align*}\n",
    "\n",
    " To solve this, we need a solver that can handle <span style=\"color:orange\">quadratic programs (QP) with SOS1 variables</span>."
   ]
  },
  {
   "cell_type": "code",
   "execution_count": 113,
   "id": "95caf77b",
   "metadata": {},
   "outputs": [],
   "source": [
    "import pyomo.environ as pyo\n",
    "def sos1_variable_transformation(m:pyo.ConcreteModel, var:pyo.Var, fun:pyo.Expression):\n",
    "    # Adding SOS1 variables to model\n",
    "    m.add_component('v_plus_' + var.name, pyo.Var(domain=pyo.NonNegativeReals))\n",
    "    m.add_component('v_minus_' + var.name, pyo.Var(domain=pyo.NonNegativeReals))\n",
    "\n",
    "    # Creating python variables pointin to model variables for easy access\n",
    "    v_plus = m.component('v_plus_' + var.name)\n",
    "    v_minus = m.component('v_minus_' + var.name)\n",
    "    \n",
    "    # Add constraints to the model\n",
    "    m.add_component('SOS1_' + var.name + '_nonnegativity', \n",
    "                   pyo.Constraint(expr = fun >= 0))\n",
    "    \n",
    "    m.add_component('SOS1_' + var.name + '_addition', \n",
    "                   pyo.Constraint(expr = 2*(v_plus + v_minus) == var + fun))\n",
    "    \n",
    "    m.add_component('SOS1_' + var.name + '_subtraction', \n",
    "                   pyo.Constraint(expr = 2*(v_plus - v_minus) == var - fun))\n",
    "    \n",
    "    # Create function for generating SOS1 constraints\n",
    "    def SOS1_rule(m):\n",
    "        vars_list = [v_plus, v_minus]\n",
    "        weights = [1, 2] # mandatory to specify weights, these may affect computation performance but for now set naively. \n",
    "        return vars_list, weights\n",
    "    \n",
    "    m.add_component('SOS1_' + var.name + '_constraint',\n",
    "                    pyo.SOSConstraint(rule=SOS1_rule, sos=1))"
   ]
  },
  {
   "cell_type": "markdown",
   "id": "b040ea05",
   "metadata": {},
   "source": [
    "\n",
    "\\begin{align}\n",
    "    \\min_{x_1, x_2, x_3} \\quad & c_1 x_1 - \\left( \\alpha - \\beta \\sum_{i=1}^{3} x_i \\right) x_1 \\\\\n",
    "    \\text{s.t.} \\quad & x_1 - X_1^{\\max} \\leq 0 \\\\\n",
    "    & -x_1 \\leq 0 \\\\\n",
    "    & \\text{Lower-level problem:} \\nonumber \\\\\n",
    "    &0 \\leq x_i \\perp c_i + \\beta x_i - \\alpha + \\beta \\sum_j x_j + \\mu_i^{\\max} \\geq 0, \\quad i = 2,3\\\\\n",
    "    &0 \\leq \\mu_i^{\\max} \\perp X_i^{\\max} - x_i \\geq 0, \\quad i = 2,3 \\\\\n",
    "\\end{align}"
   ]
  },
  {
   "cell_type": "code",
   "execution_count": 114,
   "id": "8b90c578",
   "metadata": {},
   "outputs": [],
   "source": [
    "def MPEC_firm1_leader_model(c1, c2, c3, X1_max, X2_max, X3_max):\n",
    "    # Initialize MPEC market model (m)\n",
    "    m = ConcreteModel()\n",
    "\n",
    "    # Set of firms\n",
    "    m.I = Set(initialize=[1, 2, 3])\n",
    "\n",
    "    # Define parameters\n",
    "    m.c = Param(m.I, initialize={1:c1, 2:c2, 3:c3})\n",
    "    m.X_max = Param(m.I, initialize={1:X1_max, 2:X2_max, 3:X3_max})\n",
    "\n",
    "    # Define variables\n",
    "    m.x = Var(m.I, domain=NonNegativeReals)\n",
    "    m.mu = Var(m.I, domain=NonNegativeReals)  # Dual variables\n",
    "\n",
    "    # Define objective function for firm 1 (leader)\n",
    "    def negative_profit_firm1(m):\n",
    "        price = a - b * sum(m.x[j] for j in m.I)\n",
    "        return m.c[1] * m.x[1] - price * m.x[1]\n",
    "    m.profit1 = pyo.Objective(rule=negative_profit_firm1, sense=pyo.minimize)\n",
    "\n",
    "    # Complementarity constraints for firm 2 and firm 3 (followers)\n",
    "    # 0 ≤ x_i ⊥ c_i + bx_i - a + b*sum(x_j) + mu_i ≥ 0 for i = 2, 3\n",
    "    def function_x(m, i):\n",
    "        return Expression(expr= m.c[i] + b * m.x[i] - a + b * sum(m.x[j] for j in m.I) + m.mu[i])\n",
    "    sos1_variable_transformation(m, m.x[2], function_x(m, 2))\n",
    "    sos1_variable_transformation(m, m.x[3], function_x(m, 3))\n",
    "    \n",
    "    \n",
    "    # 0 ≤ mu_i ⊥ (X_max - x_i) ≥ 0 for i = 2, 3\n",
    "    def function_mu(m, i):\n",
    "        return Expression(expr= m.X_max[i] - m.x[i] >= 0)\n",
    "    sos1_variable_transformation(m, m.mu[2], function_x(m, 2))\n",
    "    sos1_variable_transformation(m, m.mu[3], function_x(m, 3))\n",
    "\n",
    "    m.pprint()"
   ]
  },
  {
   "cell_type": "code",
   "execution_count": 115,
   "id": "05fa02f7",
   "metadata": {},
   "outputs": [
    {
     "name": "stdout",
     "output_type": "stream",
     "text": [
      "1 Set Declarations\n",
      "    I : Size=1, Index=None, Ordered=Insertion\n",
      "        Key  : Dimen : Domain : Size : Members\n",
      "        None :     1 :    Any :    3 : {1, 2, 3}\n",
      "\n",
      "2 Param Declarations\n",
      "    X_max : Size=3, Index=I, Domain=Any, Default=None, Mutable=False\n",
      "        Key : Value\n",
      "          1 :     3\n",
      "          2 :     4\n",
      "          3 :     2\n",
      "    c : Size=3, Index=I, Domain=Any, Default=None, Mutable=False\n",
      "        Key : Value\n",
      "          1 :     3\n",
      "          2 :     4\n",
      "          3 :     5\n",
      "\n",
      "10 Var Declarations\n",
      "    mu : Size=3, Index=I\n",
      "        Key : Lower : Value : Upper : Fixed : Stale : Domain\n",
      "          1 :     0 :  None :  None : False :  True : NonNegativeReals\n",
      "          2 :     0 :  None :  None : False :  True : NonNegativeReals\n",
      "          3 :     0 :  None :  None : False :  True : NonNegativeReals\n",
      "    v_minus_mu[2] : Size=1, Index=None\n",
      "        Key  : Lower : Value : Upper : Fixed : Stale : Domain\n",
      "        None :     0 :  None :  None : False :  True : NonNegativeReals\n",
      "    v_minus_mu[3] : Size=1, Index=None\n",
      "        Key  : Lower : Value : Upper : Fixed : Stale : Domain\n",
      "        None :     0 :  None :  None : False :  True : NonNegativeReals\n",
      "    v_minus_x[2] : Size=1, Index=None\n",
      "        Key  : Lower : Value : Upper : Fixed : Stale : Domain\n",
      "        None :     0 :  None :  None : False :  True : NonNegativeReals\n",
      "    v_minus_x[3] : Size=1, Index=None\n",
      "        Key  : Lower : Value : Upper : Fixed : Stale : Domain\n",
      "        None :     0 :  None :  None : False :  True : NonNegativeReals\n",
      "    v_plus_mu[2] : Size=1, Index=None\n",
      "        Key  : Lower : Value : Upper : Fixed : Stale : Domain\n",
      "        None :     0 :  None :  None : False :  True : NonNegativeReals\n",
      "    v_plus_mu[3] : Size=1, Index=None\n",
      "        Key  : Lower : Value : Upper : Fixed : Stale : Domain\n",
      "        None :     0 :  None :  None : False :  True : NonNegativeReals\n",
      "    v_plus_x[2] : Size=1, Index=None\n",
      "        Key  : Lower : Value : Upper : Fixed : Stale : Domain\n",
      "        None :     0 :  None :  None : False :  True : NonNegativeReals\n",
      "    v_plus_x[3] : Size=1, Index=None\n",
      "        Key  : Lower : Value : Upper : Fixed : Stale : Domain\n",
      "        None :     0 :  None :  None : False :  True : NonNegativeReals\n",
      "    x : Size=3, Index=I\n",
      "        Key : Lower : Value : Upper : Fixed : Stale : Domain\n",
      "          1 :     0 :  None :  None : False :  True : NonNegativeReals\n",
      "          2 :     0 :  None :  None : False :  True : NonNegativeReals\n",
      "          3 :     0 :  None :  None : False :  True : NonNegativeReals\n",
      "\n",
      "1 Objective Declarations\n",
      "    profit1 : Size=1, Index=None, Active=True\n",
      "        Key  : Active : Sense    : Expression\n",
      "        None :   True : minimize : 3*x[1] - (10 - (x[1] + x[2] + x[3]))*x[1]\n",
      "\n",
      "12 Constraint Declarations\n",
      "    SOS1_mu[2]_addition : Size=1, Index=None, Active=True\n",
      "        Key  : Lower : Body                                                                    : Upper : Active\n",
      "        None :   0.0 : 2*('v_plus_mu[2]' + 'v_minus_mu[2]') - (mu[2] + ScalarExpression{None}) :   0.0 :   True\n",
      "    SOS1_mu[2]_nonnegativity : Size=1, Index=None, Active=True\n",
      "        Key  : Lower : Body             : Upper : Active\n",
      "        None :   0.0 : ScalarExpression :  +Inf :   True\n",
      "    SOS1_mu[2]_subtraction : Size=1, Index=None, Active=True\n",
      "        Key  : Lower : Body                                                                    : Upper : Active\n",
      "        None :   0.0 : 2*('v_plus_mu[2]' - 'v_minus_mu[2]') - (mu[2] - ScalarExpression{None}) :   0.0 :   True\n",
      "    SOS1_mu[3]_addition : Size=1, Index=None, Active=True\n",
      "        Key  : Lower : Body                                                                    : Upper : Active\n",
      "        None :   0.0 : 2*('v_plus_mu[3]' + 'v_minus_mu[3]') - (mu[3] + ScalarExpression{None}) :   0.0 :   True\n",
      "    SOS1_mu[3]_nonnegativity : Size=1, Index=None, Active=True\n",
      "        Key  : Lower : Body             : Upper : Active\n",
      "        None :   0.0 : ScalarExpression :  +Inf :   True\n",
      "    SOS1_mu[3]_subtraction : Size=1, Index=None, Active=True\n",
      "        Key  : Lower : Body                                                                    : Upper : Active\n",
      "        None :   0.0 : 2*('v_plus_mu[3]' - 'v_minus_mu[3]') - (mu[3] - ScalarExpression{None}) :   0.0 :   True\n",
      "    SOS1_x[2]_addition : Size=1, Index=None, Active=True\n",
      "        Key  : Lower : Body                                                                 : Upper : Active\n",
      "        None :   0.0 : 2*('v_plus_x[2]' + 'v_minus_x[2]') - (x[2] + ScalarExpression{None}) :   0.0 :   True\n",
      "    SOS1_x[2]_nonnegativity : Size=1, Index=None, Active=True\n",
      "        Key  : Lower : Body             : Upper : Active\n",
      "        None :   0.0 : ScalarExpression :  +Inf :   True\n",
      "    SOS1_x[2]_subtraction : Size=1, Index=None, Active=True\n",
      "        Key  : Lower : Body                                                                 : Upper : Active\n",
      "        None :   0.0 : 2*('v_plus_x[2]' - 'v_minus_x[2]') - (x[2] - ScalarExpression{None}) :   0.0 :   True\n",
      "    SOS1_x[3]_addition : Size=1, Index=None, Active=True\n",
      "        Key  : Lower : Body                                                                 : Upper : Active\n",
      "        None :   0.0 : 2*('v_plus_x[3]' + 'v_minus_x[3]') - (x[3] + ScalarExpression{None}) :   0.0 :   True\n",
      "    SOS1_x[3]_nonnegativity : Size=1, Index=None, Active=True\n",
      "        Key  : Lower : Body             : Upper : Active\n",
      "        None :   0.0 : ScalarExpression :  +Inf :   True\n",
      "    SOS1_x[3]_subtraction : Size=1, Index=None, Active=True\n",
      "        Key  : Lower : Body                                                                 : Upper : Active\n",
      "        None :   0.0 : 2*('v_plus_x[3]' - 'v_minus_x[3]') - (x[3] - ScalarExpression{None}) :   0.0 :   True\n",
      "\n",
      "4 SOSConstraint Declarations\n",
      "       SOS1_mu[2]_constraint : \tSize=1 \n",
      "    \t\tType=1\n",
      "    \t\tWeight : Variable\n",
      "    \t\t1 : 'v_plus_mu[2]'\n",
      "    \t\t2 : 'v_minus_mu[2]'\n",
      "       SOS1_mu[3]_constraint : \tSize=1 \n",
      "    \t\tType=1\n",
      "    \t\tWeight : Variable\n",
      "    \t\t1 : 'v_plus_mu[3]'\n",
      "    \t\t2 : 'v_minus_mu[3]'\n",
      "       SOS1_x[2]_constraint : \tSize=1 \n",
      "    \t\tType=1\n",
      "    \t\tWeight : Variable\n",
      "    \t\t1 : 'v_plus_x[2]'\n",
      "    \t\t2 : 'v_minus_x[2]'\n",
      "       SOS1_x[3]_constraint : \tSize=1 \n",
      "    \t\tType=1\n",
      "    \t\tWeight : Variable\n",
      "    \t\t1 : 'v_plus_x[3]'\n",
      "    \t\t2 : 'v_minus_x[3]'\n",
      "\n",
      "30 Declarations: I c X_max x mu profit1 v_plus_x[2] v_minus_x[2] SOS1_x[2]_nonnegativity SOS1_x[2]_addition SOS1_x[2]_subtraction SOS1_x[2]_constraint v_plus_x[3] v_minus_x[3] SOS1_x[3]_nonnegativity SOS1_x[3]_addition SOS1_x[3]_subtraction SOS1_x[3]_constraint v_plus_mu[2] v_minus_mu[2] SOS1_mu[2]_nonnegativity SOS1_mu[2]_addition SOS1_mu[2]_subtraction SOS1_mu[2]_constraint v_plus_mu[3] v_minus_mu[3] SOS1_mu[3]_nonnegativity SOS1_mu[3]_addition SOS1_mu[3]_subtraction SOS1_mu[3]_constraint\n"
     ]
    }
   ],
   "source": [
    "MPEC_firm1_leader_model(c1, c2, c3, X1_max, X2_max, X3_max)"
   ]
  },
  {
   "cell_type": "code",
   "execution_count": null,
   "id": "53c57ffe",
   "metadata": {},
   "outputs": [],
   "source": []
  }
 ],
 "metadata": {
  "kernelspec": {
   "display_name": "course_env",
   "language": "python",
   "name": "python3"
  },
  "language_info": {
   "codemirror_mode": {
    "name": "ipython",
    "version": 3
   },
   "file_extension": ".py",
   "mimetype": "text/x-python",
   "name": "python",
   "nbconvert_exporter": "python",
   "pygments_lexer": "ipython3",
   "version": "3.11.11"
  }
 },
 "nbformat": 4,
 "nbformat_minor": 5
}
