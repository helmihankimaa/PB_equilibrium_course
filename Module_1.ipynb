{
 "cells": [
  {
   "cell_type": "markdown",
   "id": "8b72f926",
   "metadata": {},
   "source": [
    "# Module 1: Optimization Problems & Karush-Kuhn-Tucker (KKT) Conditions\n",
    "\n",
    "\n",
    "In this module we investigate **optimization basics** (linear and nonlinear programs), notions of **convex functions**, **convex sets**, and **Karush-Kuhn-Tucker optimality conditions**.\n",
    "\n",
    "We will investigate these concepts through the following examples:\n",
    "1)  Transportation Problem (LP)\n",
    "\n",
    "2)  Portfolio Optimization (NLP)\n",
    "\n",
    "3)  Convexity Analysis"
   ]
  },
  {
   "cell_type": "markdown",
   "id": "188ce298",
   "metadata": {},
   "source": [
    "#### Import code packages"
   ]
  },
  {
   "cell_type": "code",
   "execution_count": null,
   "id": "96577f95",
   "metadata": {},
   "outputs": [],
   "source": [
    "import matplotlib.pyplot as plt\n",
    "from pyomo.environ import *\n",
    "from pyomo.opt import SolverFactory\n",
    "import pandas as pd\n",
    "from pprint import pprint\n",
    "import numpy as np\n",
    "import networkx as nx"
   ]
  },
  {
   "cell_type": "markdown",
   "id": "6998c973",
   "metadata": {},
   "source": [
    "# Exercise 1.1: Transportation Problem"
   ]
  },
  {
   "cell_type": "markdown",
   "id": "eb636a3e",
   "metadata": {},
   "source": [
    "#### Problem Description\n",
    "\n",
    "A company operates 3 refineries and must supply diesel to 4 cities. Each refinery has a limited production capacity, and each city has a minimum demand requirement. The company wants to minimize the total cost of distributing diesel while meeting all constraints.\n",
    "\n",
    "##### Problem Data:\n",
    "- **Supply**: 3 refineries\n",
    "- **Demand**: 4 cities\n",
    "- **Objective**: Minimize total distribution cost\n",
    "\n",
    "\n",
    "\n"
   ]
  },
  {
   "cell_type": "markdown",
   "id": "05e8e955",
   "metadata": {},
   "source": [
    "### Task 1: Implement transportation model in Pyomo"
   ]
  },
  {
   "cell_type": "markdown",
   "id": "94c33695",
   "metadata": {},
   "source": [
    "#### Explicit mathematical formulation:"
   ]
  },
  {
   "cell_type": "markdown",
   "id": "db593e73",
   "metadata": {},
   "source": [
    "**Decision Variables:**\n",
    "- $x_{ij}$ = amount of diesel distributed from refinery $i$ to city $j$\n",
    "\n",
    "**Objective Function:**\n",
    "$$\\min Z = 8x_{11} + 6x_{12} + 10x_{13} + 9x_{14} + 9x_{21} + 12x_{22} + 13x_{23} + 7x_{24} + 14x_{31} + 9x_{32} + 16x_{33} + 5x_{34}$$\n",
    "\n",
    "**Subject to:**\n",
    "\n",
    "*Supply Constraints:*\n",
    "- $x_{11} + x_{12} + x_{13} + x_{14} \\leq 35$ (Refinery 1 capacity)\n",
    "- $x_{21} + x_{22} + x_{23} + x_{24} \\leq 50$ (Refinery 2 capacity) \n",
    "- $x_{31} + x_{32} + x_{33} + x_{34} \\leq 40$ (Refinery 3 capacity)\n",
    "\n",
    "*Demand Constraints:*\n",
    "- $x_{11} + x_{21} + x_{31} \\geq 45$ (City 1 demand)\n",
    "- $x_{12} + x_{22} + x_{32} \\geq 20$ (City 2 demand)\n",
    "- $x_{13} + x_{23} + x_{33} \\geq 30$ (City 3 demand)\n",
    "- $x_{14} + x_{24} + x_{34} \\geq 30$ (City 4 demand)\n",
    "\n",
    "*Non-negativity:*\n",
    "- $x_{ij} \\geq 0$ for all $i,j$"
   ]
  },
  {
   "cell_type": "markdown",
   "id": "eae49eda",
   "metadata": {},
   "source": [
    "#### Symbolic formulation\n"
   ]
  },
  {
   "cell_type": "markdown",
   "id": "5606c51a",
   "metadata": {},
   "source": [
    "\n",
    "\\begin{align*}\n",
    "\\min & \\sum_{i \\in I} \\sum_{j \\in J} c_{ij}x_{ij} \\\\\n",
    "\\text{s.t.} \\quad & \\sum_{i \\in I} x_{ij} \\geq d_j \\qquad \\forall j \\in J \\\\\n",
    "& \\sum_{j \\in J} x_{ij} \\leq s_i, \\qquad \\forall i \\in I \\\\\n",
    "& x_{ij} \\geq 0, \\qquad \\forall i \\in I, j \\in J\n",
    "\\end{align*}\n",
    "\n",
    "Where:\n",
    "- $x_{ij}$ = amount of diesel (barrel) distributed from refinery $i$ to city $j$\n",
    "- $c_{ij}$ = transportation cost ($/barrel) for sending from refinery $i$ to city $j$\n",
    "- $d_j$    = diesel demand (barrel) for city $j$\n",
    "- $s_i$    = diesel supply (barrel) for city $i$\n",
    "- $I$      = set of refineries\n",
    "- $J$      = set of cities"
   ]
  },
  {
   "cell_type": "markdown",
   "id": "529e27cf",
   "metadata": {},
   "source": [
    "#### Define Problem Data"
   ]
  },
  {
   "cell_type": "code",
   "execution_count": null,
   "id": "b3ab87c1",
   "metadata": {},
   "outputs": [],
   "source": [
    "# Define sets of refineries and cities\n",
    "refineries = ['Refinery_1', 'Refinery_2', 'Refinery_3']\n",
    "cities = ['City_1', 'City_2', 'City_3', 'City_4']\n",
    "\n",
    "# Supply capacities (barrel)\n",
    "supply_capacities = {\n",
    "    'Refinery_1': 35,\n",
    "    'Refinery_2': 50,\n",
    "    'Refinery_3': 40\n",
    "}\n",
    "\n",
    "# Demand requirements (barrel)\n",
    "demand_quantities = {\n",
    "    'City_1': 45,\n",
    "    'City_2': 20,\n",
    "    'City_3': 30,\n",
    "    'City_4': 30\n",
    "}\n",
    "\n",
    "# Arc transportation costs ($/barrel)\n",
    "transportation_costs = {\n",
    "    ('Refinery_1', 'City_1'): 8, ('Refinery_1', 'City_2'): 6, ('Refinery_1', 'City_3'): 10, ('Refinery_1', 'City_4'): 9,\n",
    "    ('Refinery_2', 'City_1'): 9, ('Refinery_2', 'City_2'): 12, ('Refinery_2', 'City_3'): 13, ('Refinery_2', 'City_4'): 7,\n",
    "    ('Refinery_3', 'City_1'): 14, ('Refinery_3', 'City_2'): 9, ('Refinery_3', 'City_3'): 16, ('Refinery_3', 'City_4'): 5\n",
    "}\n",
    "\n",
    "# Define node positions for plotting later (refineries on left, cities on right)\n",
    "refinery_pos = {p: (0, 3 - idx) for idx, p in enumerate(refineries)}  # Refineries at x=0\n",
    "city_pos = {c: (4, 3.5 - idx) for idx, c in enumerate(cities)}  # Cities at x=4\n",
    "coordinates = {**refinery_pos, **city_pos}\n"
   ]
  },
  {
   "cell_type": "markdown",
   "id": "0cb9e136",
   "metadata": {},
   "source": [
    "#### Function that constructs the model for specified data"
   ]
  },
  {
   "cell_type": "code",
   "execution_count": null,
   "id": "224f5b6f",
   "metadata": {},
   "outputs": [],
   "source": [
    "def construct_transportation_model(refineries, cities, supply_capacities, demand_quantities, transport_costs):\n",
    "    \n",
    "    # Create the concrete model\n",
    "    model = ConcreteModel()\n",
    "    \n",
    "    # Define sets\n",
    "    model.refineries = Set(initialize = refineries)\n",
    "    model.cities = Set(initialize = cities)\n",
    "    \n",
    "    # Define parameters\n",
    "    model.supply = Param(model.refineries, initialize = supply_capacities)\n",
    "    model.demand = Param(model.cities, initialize = demand_quantities)\n",
    "    model.cost = Param(model.refineries, model.cities, initialize = transport_costs)\n",
    "    \n",
    "    # Define decision variables\n",
    "    model.x = Var(model.refineries, model.cities, domain=NonNegativeReals)\n",
    "    \n",
    "    # Define objective function\n",
    "    def obj_rule(model):\n",
    "        return sum(model.cost[i,j] * model.x[i,j] for i in model.refineries for j in model.cities)\n",
    "    model.obj = Objective(rule=obj_rule, sense=minimize)\n",
    "    \n",
    "    # Define supply constraints\n",
    "    def supply_rule(model, i):\n",
    "        return sum(model.x[i,j] for j in model.cities) <= model.supply[i]\n",
    "    model.supply_con = Constraint(model.refineries, rule=supply_rule)\n",
    "    \n",
    "    # Define demand constraints\n",
    "    def demand_rule(model, j):\n",
    "        return sum(model.x[i,j] for i in model.refineries) >= model.demand[j]\n",
    "    model.demand_con = Constraint(model.cities, rule=demand_rule)\n",
    "    \n",
    "    # Enable duals\n",
    "    model.dual = Suffix(direction=Suffix.IMPORT)\n",
    "    \n",
    "    # Return model object\n",
    "    return model"
   ]
  },
  {
   "cell_type": "markdown",
   "id": "5d3e7e5f",
   "metadata": {},
   "source": [
    "#### Construct the model using the function and print the model"
   ]
  },
  {
   "cell_type": "code",
   "execution_count": null,
   "id": "d3aa7f9c",
   "metadata": {},
   "outputs": [],
   "source": [
    "tp_model = construct_transportation_model(refineries, cities, supply_capacities, demand_quantities, transportation_costs)\n",
    "\n",
    "# Print model to verify correctness\n",
    "#tp_model.pprint()\n"
   ]
  },
  {
   "cell_type": "markdown",
   "id": "c2b43e30",
   "metadata": {},
   "source": [
    "#### Solve the model and display results\n",
    "\n",
    "We choose to use the **HiGHS** solver for this problem. It is a free and open-source solver."
   ]
  },
  {
   "cell_type": "code",
   "execution_count": null,
   "id": "404a50f6",
   "metadata": {},
   "outputs": [],
   "source": [
    "# Solve the Model\n",
    "solver = SolverFactory('appsi_highs')\n",
    "tp_results = solver.solve(tp_model, tee=True)"
   ]
  },
  {
   "cell_type": "markdown",
   "id": "06760774",
   "metadata": {},
   "source": [
    "Observe solution status, objective value, and decision variable values."
   ]
  },
  {
   "cell_type": "code",
   "execution_count": null,
   "id": "bd422f6c",
   "metadata": {},
   "outputs": [],
   "source": [
    "print(\"=== Objective value ===\")\n",
    "print(f\"Total Transportation Cost: ${tp_model.obj():.2f}\")\n",
    "\n",
    "print(\"\\n=== Optimal Transportation Plan ===\")\n",
    "for i in tp_model.refineries:\n",
    "    for j in tp_model.cities:\n",
    "        if tp_model.x[i,j].value > 0:\n",
    "            print(f\"Transport {tp_model.x[i,j].value:.2f} from {i} to {j}\")\n",
    "\n",
    "\n",
    "print(\"\\n=== Nodal Prices (Dual Variables) ===\")\n",
    "# Define function for extracting supply constraint duals\n",
    "def supply_duals(model):\n",
    "    supply_duals = {}\n",
    "    for i in model.refineries:\n",
    "        dual = model.dual.get(model.supply_con[i], 0)\n",
    "        supply_duals[i] = round(dual,2)\n",
    "    return supply_duals\n",
    "\n",
    "# Define function for extracting demand constraint duals\n",
    "def demand_duals(model):\n",
    "    demand_duals = {}\n",
    "    for j in model.cities:\n",
    "        dual = model.dual.get(model.demand_con[j], 0)\n",
    "        demand_duals[j] = round(dual,2)\n",
    "    return demand_duals\n",
    "\n",
    "print(\"Supply Constraints (Shadow Prices for Refineries, $/barrel):\")\n",
    "refinery_duals = supply_duals(tp_model)\n",
    "for i in refineries:\n",
    "    print(f\"{i}: ${refinery_duals[i]:.2f}/barrel\")\n",
    "\n",
    "print(\"\\nDemand Constraints (Shadow Prices for Cities, $/barrel):\")\n",
    "city_duals = demand_duals(tp_model)\n",
    "for j in cities:\n",
    "    print(f\"{j}: ${city_duals[j]:.2f}/barrel\")\n",
    "        "
   ]
  },
  {
   "cell_type": "markdown",
   "id": "a5e21935",
   "metadata": {},
   "source": [
    "#### Visualize results"
   ]
  },
  {
   "cell_type": "markdown",
   "id": "7ff31b18",
   "metadata": {},
   "source": [
    "The function below visualizes the transportation plan, showing the flow of diesel from refineries to cities."
   ]
  },
  {
   "cell_type": "code",
   "execution_count": null,
   "id": "3ad3f9ba",
   "metadata": {},
   "outputs": [],
   "source": [
    "def plot_tp_result(model, supply_duals, demand_duals, coordinates=coordinates, refineries=refineries, cities=cities):\n",
    "    \n",
    "    # Get edges with flow from optimal solution and build labels\n",
    "    edges_with_flow = []\n",
    "    edge_labels = {}\n",
    "    edge_cost_labels = {}\n",
    "    node_labels = {}\n",
    "    for i,j in model.x:\n",
    "        # Add node labels with dual values\n",
    "        node_labels[i] =  f\"{i}\\n{supply_duals[i]} $/barrel\"\n",
    "        node_labels[j] =  f\"{j}\\n{demand_duals[j]} $/barrel\"\n",
    "\n",
    "        # Add edge if flow > 0\n",
    "        flow = value(model.x[i,j])\n",
    "        if flow > 1e-6:\n",
    "            edges_with_flow.append((i,j))\n",
    "            flow_rounded = round(flow, 2)\n",
    "            edge_labels[(i,j)] = f\"{flow_rounded} barrels\"\n",
    "            edge_cost_labels[(i,j)] = f\"({model.cost[i,j]} $/barrel)\"\n",
    "\n",
    "    # Build graph\n",
    "    G = nx.DiGraph()\n",
    "    for o,d in edges_with_flow:\n",
    "        G.add_edge(o, d)\n",
    "\n",
    "    # Begin figure\n",
    "    plt.figure(figsize=(10, 6))\n",
    "\n",
    "    # Draw edges with labels\n",
    "    nx.draw_networkx_edges(G, coordinates, edgelist=edges_with_flow, width=3, edge_color='gray', arrows=False)\n",
    "    nx.draw_networkx_edge_labels(G, coordinates,  edge_labels=edge_labels, label_pos=0.2, font_color='black', font_size=9)\n",
    "    nx.draw_networkx_edge_labels(G, coordinates,  edge_labels=edge_cost_labels, label_pos=0.8, font_color='black', font_size=9)\n",
    "\n",
    "    # Draw nodes and their labels\n",
    "    nx.draw_networkx_nodes(G, coordinates, nodelist=refineries, node_color='lightblue', node_size=4000)\n",
    "    nx.draw_networkx_nodes(G, coordinates, nodelist=cities, node_color='skyblue', node_size=4000)\n",
    "    nx.draw_networkx_labels(G, coordinates, labels=node_labels, font_size=10);\n",
    "\n",
    "    # Add labels\n",
    "    plt.text(0.8,4, \"Optimal flows\", fontsize=12, ha='center')\n",
    "    plt.text(3, 4, \"Transportation costs\", fontsize=12, ha='center')\n",
    "    plt.tight_layout(pad=1)\n",
    "    plt.axis('off')\n"
   ]
  },
  {
   "cell_type": "code",
   "execution_count": null,
   "id": "fedf0438",
   "metadata": {},
   "outputs": [],
   "source": [
    "plot_tp_result(tp_model, refinery_duals, city_duals)"
   ]
  },
  {
   "cell_type": "markdown",
   "id": "799819ef",
   "metadata": {},
   "source": [
    "\n",
    "### Task 2: Analysing the relationship between transportation costs and nodal prices\n",
    "\n"
   ]
  },
  {
   "cell_type": "markdown",
   "id": "082c0461",
   "metadata": {},
   "source": [
    "In this exercise, you will analyze the relationship between nodal prices (dual variables) and transportation unit costs in the transportation problem. Nodal prices represent the marginal value of relaxing supply or demand constraints: Supply duals represent the marginal cost of increasing supply capacity at a refinery and demand duals represent the marginal cost of meeting additional demand at a city.\n",
    "\n",
    "Modify transportation cost parameters and observe how nodal prices change relative to transportation costs. How do nodal prices relate to transportation unit costs? Why?"
   ]
  },
  {
   "cell_type": "code",
   "execution_count": null,
   "id": "f1a51040",
   "metadata": {},
   "outputs": [],
   "source": [
    "# Change these values to see how the results change\n",
    "cost_data_new = {\n",
    "    ('Refinery_1', 'City_1'): 8, ('Refinery_1', 'City_2'): 6, ('Refinery_1', 'City_3'): 10, ('Refinery_1', 'City_4'): 9,\n",
    "    ('Refinery_2', 'City_1'): 9, ('Refinery_2', 'City_2'): 12, ('Refinery_2', 'City_3'): 13, ('Refinery_2', 'City_4'): 7,\n",
    "    ('Refinery_3', 'City_1'): 14, ('Refinery_3', 'City_2'): 9, ('Refinery_3', 'City_3'): 16, ('Refinery_3', 'City_4'): 5\n",
    "}\n",
    "\n",
    "\n",
    "# Construct and solve new model\n",
    "new_tp_model = construct_transportation_model(refineries, cities, supply_capacities, demand_quantities, cost_data_new)\n",
    "solver.solve(new_tp_model, tee=False)\n",
    "\n",
    "# Fetch optimal dual variable values\n",
    "new_supply_duals = supply_duals(new_tp_model)\n",
    "new_demand_duals = demand_duals(new_tp_model)\n",
    "\n",
    "# Plot the result\n",
    "plot_tp_result(new_tp_model, new_supply_duals, new_demand_duals)"
   ]
  },
  {
   "cell_type": "markdown",
   "id": "04691ac7",
   "metadata": {},
   "source": [
    "# Exercise 1.2 : Portfolio Optimization"
   ]
  },
  {
   "cell_type": "markdown",
   "id": "ca488575",
   "metadata": {},
   "source": [
    "#### Problem Description\n",
    "\n",
    "In the classic **Markowitz Mean-Variance Optimization** problem, the objective is to construct an investment portfolio using 3 stocks. The goal is to minimize portfolio risk (variance) while achieving a minimum expected return. \n",
    "\n",
    "#### Problem Data:\n",
    "- **Assets**: 3 stocks with different expected returns\n",
    "- **Risk**: Measured by portfolio variance using variance-covariance matrix\n",
    "- **Objective**: Minimize portfolio variance for given return levels"
   ]
  },
  {
   "cell_type": "markdown",
   "id": "0d72704e",
   "metadata": {},
   "source": [
    "#### Mathematical Formulation:"
   ]
  },
  {
   "cell_type": "markdown",
   "id": "fc1bf8cb",
   "metadata": {},
   "source": [
    "\\begin{align*}\n",
    "\\min & \\sum_{i \\in I} \\sum_{j \\in J} v_{ij} x_i x_j = x^T V x \\\\\n",
    "\\text{s.t.} \\quad & \\sum_{i \\in I} x_i = 1  && \\text{Budget constraint: weights sum to 100\\% } \\\\\n",
    "& \\sum_{i \\in I} r_i x_i \\geq \\textit{$\\rho$} \\qquad  && \\text{Return constraint: achieve minimum required return } \\\\\n",
    "& x_{i} \\geq 0, \\qquad \\forall i \\in I \\qquad &&  \\text{Non-negativity: no short selling}\n",
    "\\end{align*}\n",
    "\n",
    "where:\n",
    "- $x_i$ are decision variables representing weight of stock $i$ in the portfolio\n",
    "- The following are data:\n",
    "    - $V$ is the variance-covariance matrix\n",
    "    - $v_{ij}$ is the covariance between stocks $i$ and $j$\n",
    "    - $r_i$ is the expected return of stock $i$\n",
    "    - $\\rho$ is the minimum required return\n",
    "    - $I$ is the set of stocks\n",
    "\n",
    "Notice that this is a **quadratic programming (QP)** problem due to the quadratic objective function. We will use **IPOPT** (Interior Point OPTimizer), which is suitable for nonlinear programming problems."
   ]
  },
  {
   "cell_type": "markdown",
   "id": "3e8993bd",
   "metadata": {},
   "source": [
    "#### Define Problem Data"
   ]
  },
  {
   "cell_type": "code",
   "execution_count": null,
   "id": "54878cb3",
   "metadata": {},
   "outputs": [],
   "source": [
    "# Data from the table\n",
    "returns = np.array([10, 20, 30])  # Expected returns for 3 assets\n",
    "cov_matrix = np.array([\n",
    "    [4.2,  -1.9,  2  ],\n",
    "    [-1.9,  6.7, -5  ],\n",
    "    [2,    -5,    7  ]\n",
    "])"
   ]
  },
  {
   "cell_type": "markdown",
   "id": "b7de4280",
   "metadata": {},
   "source": [
    "### Task 1: Implement the model"
   ]
  },
  {
   "cell_type": "markdown",
   "id": "b1373791",
   "metadata": {},
   "source": [
    "Function constructs the portfolio optimization model for a specified minimum return level, expected returns and covariance matrix."
   ]
  },
  {
   "cell_type": "code",
   "execution_count": null,
   "id": "f1cd5b94",
   "metadata": {},
   "outputs": [],
   "source": [
    "def build_portfolio_model(minimum_return=15, returns=returns, cov_matrix=cov_matrix):\n",
    "    \n",
    "    # Initialize model\n",
    "    model = ConcreteModel()\n",
    "    \n",
    "    # Sets and indices\n",
    "    n_assets = len(returns)\n",
    "    model.I = RangeSet(0, n_assets-1)  # 3 assets: 0, 1, 2\n",
    "    \n",
    "    # Variables\n",
    "    model.x = Var(model.I, domain=NonNegativeReals, bounds=(0, 1))\n",
    "    \n",
    "    # Objective: Minimize variance\n",
    "    def variance_rule(m):\n",
    "        return sum(cov_matrix[i, j] * m.x[i] * m.x[j] \n",
    "                   for i in m.I for j in m.I)\n",
    "    model.variance = Objective(rule=variance_rule, sense=minimize)\n",
    "    \n",
    "    # Constraint 1: Full investment\n",
    "    model.budget = Constraint(expr=sum(model.x[i] for i in model.I) == 1)\n",
    "    \n",
    "    # Constraint 2: Minimum return requirement\n",
    "    model.minimum_return = Constraint(\n",
    "        expr=sum(returns[i] * model.x[i] for i in model.I) >= minimum_return\n",
    "    )\n",
    "    \n",
    "    return model"
   ]
  },
  {
   "cell_type": "markdown",
   "id": "4187897a",
   "metadata": {},
   "source": [
    "### Task 2: Analysis and Extensions\n",
    "\n",
    "1. **Risk Tolerance Analysis**: How does the optimal portfolio change as we increase the minimum expected return? What happens to the risk of the portfolio?\n",
    "\n",
    "2. **New Asset**: Add a fourth stock with 25% expected return and moderate correlations with existing stocks and Covariance = [1.5]\n",
    "                   [-1.2]\n",
    "                   [2.0]\n",
    "                   [6.0]\n",
    "    How does the solution compare to the original 3-stock portfolio with a minimum return of 20%?"
   ]
  },
  {
   "cell_type": "markdown",
   "id": "ae93e8b5",
   "metadata": {},
   "source": [
    "##### **Risk Tolerance Analysis**\n",
    "\n",
    "We will investigate risk tolerance by generating the **efficient frontier** and observing how the portfolio composition and the expected return changes as we increase the minimum expected return."
   ]
  },
  {
   "cell_type": "code",
   "execution_count": null,
   "id": "83ba5878",
   "metadata": {},
   "outputs": [],
   "source": [
    "# Generate Efficient Frontier with custom target returns\n",
    "minimum_returns = [0, 2, 4, 6, 8, 10, 12, 14, 16, 18, 20, 22, 24, 26, 28, 29, 29.5, 29.7, 29.9]\n",
    "frontier_results = []\n",
    "\n",
    "# Define solver\n",
    "solver = SolverFactory('ipopt')\n",
    "\n",
    "# Iterate over target returns and solve\n",
    "for min_return in minimum_returns:\n",
    "    # Construct model and solve it\n",
    "    model = build_portfolio_model(minimum_return = min_return)\n",
    "    result = solver.solve(model, tee=False)\n",
    "    \n",
    "    # Check if the solution is optimal\n",
    "    if result.solver.termination_condition == TerminationCondition.optimal:\n",
    "\n",
    "        # Fetch optimal portfolio weights\n",
    "        weights = [value(model.x[i]) for i in model.I]\n",
    "        \n",
    "        # Fetch objective value\n",
    "        variance = value(model.variance)\n",
    "\n",
    "        # Calculate expected return\n",
    "        expected_return = sum(returns[i] * weights[i] for i in range(3))\n",
    "        \n",
    "        frontier_results.append({\n",
    "            'Minimum Return': min_return,\n",
    "            'Expected Return': round(expected_return, 2),\n",
    "            'Variance': round(variance, 4),\n",
    "            '   x1': round(weights[0], 2),\n",
    "            '   x2': round(weights[1], 2),\n",
    "            '   x3': round(weights[2],2)\n",
    "        })\n",
    "\n",
    "# Create DataFrame\n",
    "df = pd.DataFrame(frontier_results)\n",
    "print(\"\\n\" + \"=\"*80)\n",
    "print(\"EFFICIENT FRONTIER RESULTS\")\n",
    "print(\"=\"*80)\n",
    "print(df.to_string(index=False))\n",
    "print(\"=\"*80)"
   ]
  },
  {
   "cell_type": "markdown",
   "id": "02bc8624",
   "metadata": {},
   "source": [
    "Below we visualise the efficient frontier showing the relationship between risk (variance) and return for different portfolio compositions."
   ]
  },
  {
   "cell_type": "code",
   "execution_count": null,
   "id": "aadd03e9",
   "metadata": {},
   "outputs": [],
   "source": [
    "# Initialize plot\n",
    "plt.figure(figsize=(8, 4))\n",
    "\n",
    "# Plot returns against variance (efficient frontier)\n",
    "plt.plot(df['Expected Return'], df['Variance'], 'b-o', \n",
    "         linewidth=2, markersize=4, label='Efficient Frontier')\n",
    "\n",
    "# Define labels and plot parameters\n",
    "plt.title('Efficient Frontier', fontsize=14, fontweight='bold')\n",
    "plt.ylabel('Risk (Variance)', fontsize=12)\n",
    "plt.xlabel('Expected Return (%)', fontsize=12)\n",
    "plt.legend()\n",
    "plt.grid(True, alpha=0.3)\n",
    "plt.tight_layout()\n",
    "plt.show()\n",
    "\n",
    "# Print some portfolio examples\n",
    "print(\"=\"*80)\n",
    "print(\"PORTFOLIO EXAMPLES\")\n",
    "print(\"=\"*80)\n",
    "examples = df.iloc[[0, len(df)//4, len(df)//2, 3*len(df)//4, -1]]\n",
    "print(examples.to_string(index=False))\n",
    "print(\"=\"*80)"
   ]
  },
  {
   "cell_type": "markdown",
   "id": "f9926ea2",
   "metadata": {},
   "source": [
    "##### **Adding a new asset**\n",
    "\n",
    "Add a fourth stock with 25% expected return and moderate correlations with existing stocks. Use covariance values $v_{14}=v_{41}=1.5$, $v_{24} = v_{42}=−1.2$, $v_{34} = v_{43}=2$, $v_{44}=6$.\n",
    "\n",
    "How does the solution of the 4-stock portfolio compare to the original 3-stock portfolio when the minimum return requirement is 20%?\n",
    "\n"
   ]
  },
  {
   "cell_type": "code",
   "execution_count": null,
   "id": "cd212b31",
   "metadata": {},
   "outputs": [],
   "source": [
    "# Fill in the 0.0 values with appropriate values to add a fourth asset\n",
    "returns_new = np.array([10, 20, 30, 0.0])\n",
    "                        \n",
    "cov_matrix_new = np.array([\n",
    "    [ 4.2,  -1.9,   2,     0.0],\n",
    "    [-1.9,  6.7,   -5,     0.0],\n",
    "    [   2,   -5,    7,     0.0],\n",
    "    [ 0.0,  0.0,  0.0,     0.0]\n",
    "])\n",
    "\n",
    "# Set minimum return to 20%\n",
    "min_return = 20\n",
    "\n",
    "# Construct and solve new model with minimum return of 20%\n",
    "new_model = build_portfolio_model(minimum_return=min_return, returns=returns_new, cov_matrix=cov_matrix_new)\n",
    "solver.solve(new_model, tee=False)\n",
    "\n",
    "# Fetch optimal results\n",
    "weights = [value(new_model.x[i]) for i in new_model.I]\n",
    "variance = value(new_model.variance)\n",
    "actual_return = sum(returns_new[i] * weights[i] for i in new_model.I)\n",
    "\n",
    "# Print results\n",
    "print(\"\\n=== Single Run Results ===\")\n",
    "print(f\"Minimum Return: {min_return}\")\n",
    "print(f\"Actual Return: {actual_return:.4f}\")\n",
    "print(f\"Risk (Variance): {variance:.4f}\")\n",
    "for i in new_model.I:\n",
    "    print(f\"Weight Asset {i+1}: {weights[i]:.4f}\")"
   ]
  },
  {
   "cell_type": "markdown",
   "id": "628a4a8a",
   "metadata": {},
   "source": [
    "Compare the 4-stock portfolio solution to the original 3-stock portfolio with a minimum return of 20%. The cell below runs the 3-stock portfolio optimization problem and displays the results."
   ]
  },
  {
   "cell_type": "code",
   "execution_count": null,
   "id": "bb237277",
   "metadata": {},
   "outputs": [],
   "source": [
    "# Set minimum return to 20% for original 3-asset model\n",
    "min_return = 20\n",
    "\n",
    "# Solve the original problem\n",
    "original_model = build_portfolio_model(minimum_return=min_return)\n",
    "solver.solve(original_model, tee=False)\n",
    "\n",
    "# Fetch optimal results\n",
    "weights = [value(original_model.x[i]) for i in original_model.I]\n",
    "variance = value(original_model.variance)\n",
    "actual_return = sum(returns_new[i] * weights[i] for i in original_model.I)\n",
    "\n",
    "# Print results\n",
    "print(\"\\n=== Single Run Results ===\")\n",
    "print(f\"Minimum Return: {min_return}\")\n",
    "print(f\"Actual Return: {actual_return:.4f}\")\n",
    "print(f\"Risk (Variance): {variance:.4f}\")\n",
    "for i in original_model.I:\n",
    "    print(f\"Weight Asset {i+1}: {weights[i]:.4f}\")"
   ]
  },
  {
   "cell_type": "markdown",
   "id": "bc96b407",
   "metadata": {},
   "source": [
    "# Exercise 1.3 : Analyzing Convexity of Functions"
   ]
  },
  {
   "cell_type": "markdown",
   "id": "728213d7",
   "metadata": {},
   "source": [
    "Explore the convexity of the following five functions by plotting them in 3D and as level curves:  \n",
    "1. $f(x) = x^{2}$\n",
    "2. $f(x) = -x^{2}$\n",
    "3. $f(x) = 3x + 7 + \\sin(1)$\n",
    "4. $f(x,y) = xy$\n",
    "5. $f(x,y) = x^{2} + y^{2}$\n",
    "6. Rosenbrock function\n",
    "\n",
    "Discuss how these visualizations reveal convexity properties."
   ]
  },
  {
   "cell_type": "code",
   "execution_count": null,
   "id": "cc6a1686",
   "metadata": {},
   "outputs": [],
   "source": [
    "# Define grid for plotting\n",
    "x = np.linspace(-5, 5, 100)\n",
    "y = np.linspace(-5, 5, 100)\n",
    "X, Y = np.meshgrid(x, y)\n",
    "\n",
    "# Define the five functions\n",
    "Z1 = X**2\n",
    "Z2 = -X**2\n",
    "Z3 = 3 * X + 7 + np.sin(1)\n",
    "Z4 = X * Y\n",
    "Z5 = X**2 + Y**2\n",
    "\n",
    "Z_list = [\n",
    "    (Z1, r\"$f(x, y) = x^2$\", r\"Level Curves: $f(x, y) = x^2$\", 'viridis'),\n",
    "    (Z2, r\"$f(x, y) = -x^2$\", r\"Level Curves: $f(x, y) = -x^2$\", 'plasma'),\n",
    "    (Z3, r\"$f(x, y) = 3x + 7 + \\sin(1)$\", r\"Level Curves: $f(x, y) = 3x + 7 + \\sin(1)$\", 'magma'),\n",
    "    (Z4, r\"$f(x, y) = x y$\", r\"Level Curves: $f(x, y) = x y$\", 'inferno'),\n",
    "    (Z5, r\"$f(x, y) = x^2 + y^2$\", r\"Level Curves: $f(x, y) = x^2 + y^2$\", 'cividis')\n",
    "]\n",
    "\n",
    "fig = plt.figure(figsize=(10, 22))\n",
    "\n",
    "for i, (Z, surf_title, cont_title, cmap) in enumerate(Z_list):\n",
    "    # Left column: 3D surface\n",
    "    ax_surf = fig.add_subplot(5, 2, 2*i+1, projection='3d')\n",
    "    surf = ax_surf.plot_surface(X, Y, Z, cmap=cmap, alpha=0.8)\n",
    "    ax_surf.set_title(surf_title)\n",
    "    ax_surf.set_xlabel('X')\n",
    "    ax_surf.set_ylabel('Y')\n",
    "    ax_surf.set_zlabel('Z')\n",
    "    fig.colorbar(surf, ax=ax_surf, shrink=0.6, location='left')\n",
    "    \n",
    "    # Right column: contour plot\n",
    "    ax_contour = fig.add_subplot(5, 2, 2*i+2)\n",
    "    contour = ax_contour.contour(X, Y, Z, levels=20, cmap=cmap)\n",
    "    ax_contour.clabel(contour, inline=True, fontsize=8)\n",
    "    ax_contour.set_title(cont_title)\n",
    "    ax_contour.set_xlabel('X')\n",
    "    ax_contour.set_ylabel('Y')\n",
    "\n",
    "plt.tight_layout()\n",
    "plt.show()"
   ]
  },
  {
   "cell_type": "markdown",
   "id": "dfeaf7a3",
   "metadata": {},
   "source": [
    "**Rosenbrock function:**\n",
    "\n",
    " $f(x, y) = 100(y - x^2)^2 + (1 - x)^2$ \n",
    " \n",
    " is a classic non-convex function with a narrow, curved valley leading to the global minimum at (1,1). It is often used to test optimization algorithms due to its challenging landscape."
   ]
  },
  {
   "cell_type": "code",
   "execution_count": null,
   "id": "5756ca88",
   "metadata": {},
   "outputs": [],
   "source": [
    "# Define grid for plotting\n",
    "x = np.linspace(-2, 2, 100)\n",
    "y = np.linspace(-2, 4, 100)\n",
    "X, Y = np.meshgrid(x, y)\n",
    "\n",
    "# Define the five functions\n",
    "Z = 100* (Y-X**2)**2 + (1 - X)**2\n",
    "\n",
    "fig = plt.figure(figsize=(10, 5))\n",
    "\n",
    "\n",
    "# Left column: 3D surface\n",
    "ax_surf = fig.add_subplot(1, 2, 1, projection='3d')\n",
    "surf = ax_surf.plot_surface(X, Y, Z, cmap=cmap, alpha=0.8)\n",
    "ax_surf.view_init(azim=120)\n",
    "ax_surf.set_title('Rosenbrock function: $100(y - x^2)^2 + (1 - x)^2$')\n",
    "ax_surf.set_xlabel('X')\n",
    "ax_surf.set_ylabel('Y')\n",
    "ax_surf.set_zlabel('Z')\n",
    "fig.colorbar(surf, ax=ax_surf, shrink=0.6, location='left')\n",
    "\n",
    "# Right column: contour plot\n",
    "ax_contour = fig.add_subplot(1, 2, 2)\n",
    "contour = ax_contour.contour(X, Y, Z, levels=20, cmap=cmap)\n",
    "ax_contour.clabel(contour, inline=True, fontsize=8)\n",
    "ax_contour.set_title('Level Curves: $100(y - x^2)^2 + (1 - x)^2$')\n",
    "ax_contour.set_xlabel('X')\n",
    "ax_contour.set_ylabel('Y')\n",
    "\n",
    "plt.tight_layout()\n",
    "plt.show()"
   ]
  }
 ],
 "metadata": {
  "kernelspec": {
   "display_name": "course_env",
   "language": "python",
   "name": "python3"
  },
  "language_info": {
   "codemirror_mode": {
    "name": "ipython",
    "version": 3
   },
   "file_extension": ".py",
   "mimetype": "text/x-python",
   "name": "python",
   "nbconvert_exporter": "python",
   "pygments_lexer": "ipython3",
   "version": "3.11.11"
  }
 },
 "nbformat": 4,
 "nbformat_minor": 5
}
